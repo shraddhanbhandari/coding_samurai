{
 "cells": [
  {
   "cell_type": "markdown",
   "id": "a58b1ff2",
   "metadata": {},
   "source": [
    "# TASK 2"
   ]
  },
  {
   "cell_type": "code",
   "execution_count": 1,
   "id": "fef5abcd",
   "metadata": {},
   "outputs": [],
   "source": [
    "import pandas as pd\n",
    "import matplotlib.pyplot as plt\n",
    "import seaborn as sns\n",
    "import numpy as np"
   ]
  },
  {
   "cell_type": "code",
   "execution_count": 2,
   "id": "facafc32",
   "metadata": {},
   "outputs": [],
   "source": [
    "ptt = pd.read_csv(r\"C:\\Users\\HP\\Property_Price_Train.csv\")"
   ]
  },
  {
   "cell_type": "markdown",
   "id": "892a33b3",
   "metadata": {},
   "source": [
    "# Data preprocessing"
   ]
  },
  {
   "cell_type": "code",
   "execution_count": 3,
   "id": "0a8424c5",
   "metadata": {},
   "outputs": [
    {
     "data": {
      "text/plain": [
       "Lot_Extent                259\n",
       "Lane_Type                1368\n",
       "Brick_Veneer_Type           8\n",
       "Brick_Veneer_Area           8\n",
       "Basement_Height            37\n",
       "Basement_Condition         37\n",
       "Exposure_Level             38\n",
       "BsmtFinType1               37\n",
       "BsmtFinType2               38\n",
       "Electrical_System           1\n",
       "Fireplace_Quality         689\n",
       "Garage                     81\n",
       "Garage_Built_Year          81\n",
       "Garage_Finish_Year         81\n",
       "Garage_Quality             81\n",
       "Garage_Condition           81\n",
       "Pool_Quality             1452\n",
       "Fence_Quality            1178\n",
       "Miscellaneous_Feature    1405\n",
       "dtype: int64"
      ]
     },
     "execution_count": 3,
     "metadata": {},
     "output_type": "execute_result"
    }
   ],
   "source": [
    "ptt.isnull().sum()[ptt.isnull().sum()>0]"
   ]
  },
  {
   "cell_type": "code",
   "execution_count": 4,
   "id": "5cf63348",
   "metadata": {},
   "outputs": [],
   "source": [
    "ptt.Lot_Extent.fillna(ptt.Lot_Extent.median(), inplace = True)\n",
    "ptt.Lane_Type.fillna('Grvl', inplace = True)\n",
    "ptt.Brick_Veneer_Type.fillna('None', inplace = True)\n",
    "ptt.Brick_Veneer_Area.fillna(0.0, inplace = True)\n",
    "ptt.Basement_Height.fillna('TA', inplace = True)\n",
    "ptt.Basement_Condition.fillna('TA', inplace = True)\n",
    "ptt.Exposure_Level.fillna('No', inplace = True)\n",
    "ptt.BsmtFinType1.fillna('Unf', inplace = True)\n",
    "ptt.BsmtFinType2.fillna('Unf', inplace = True)\n",
    "ptt.Electrical_System.fillna('SBrkr', inplace = True)\n",
    "ptt.Fireplace_Quality.fillna('Gd', inplace = True)\n",
    "ptt.Garage.fillna('Attchd', inplace = True)\n",
    "ptt.Garage_Built_Year.fillna(2005.0, inplace = True)\n",
    "ptt.Garage_Finish_Year.fillna('Unf', inplace = True)\n",
    "ptt.Garage_Quality.fillna('TA', inplace = True)\n",
    "ptt.Garage_Condition.fillna('TA', inplace = True)\n",
    "ptt.Pool_Quality.fillna('Gd', inplace = True)\n",
    "ptt.Fence_Quality.fillna('MnPrv', inplace = True)\n",
    "ptt.Miscellaneous_Feature.fillna('Shed', inplace = True)"
   ]
  },
  {
   "cell_type": "code",
   "execution_count": 5,
   "id": "95a118c5",
   "metadata": {},
   "outputs": [
    {
     "name": "stdout",
     "output_type": "stream",
     "text": [
      "<class 'pandas.core.frame.DataFrame'>\n",
      "RangeIndex: 1459 entries, 0 to 1458\n",
      "Data columns (total 81 columns):\n",
      " #   Column                     Non-Null Count  Dtype  \n",
      "---  ------                     --------------  -----  \n",
      " 0   Id                         1459 non-null   int64  \n",
      " 1   Building_Class             1459 non-null   int64  \n",
      " 2   Zoning_Class               1459 non-null   object \n",
      " 3   Lot_Extent                 1459 non-null   float64\n",
      " 4   Lot_Size                   1459 non-null   int64  \n",
      " 5   Road_Type                  1459 non-null   object \n",
      " 6   Lane_Type                  1459 non-null   object \n",
      " 7   Property_Shape             1459 non-null   object \n",
      " 8   Land_Outline               1459 non-null   object \n",
      " 9   Utility_Type               1459 non-null   object \n",
      " 10  Lot_Configuration          1459 non-null   object \n",
      " 11  Property_Slope             1459 non-null   object \n",
      " 12  Neighborhood               1459 non-null   object \n",
      " 13  Condition1                 1459 non-null   object \n",
      " 14  Condition2                 1459 non-null   object \n",
      " 15  House_Type                 1459 non-null   object \n",
      " 16  House_Design               1459 non-null   object \n",
      " 17  Overall_Material           1459 non-null   int64  \n",
      " 18  House_Condition            1459 non-null   int64  \n",
      " 19  Construction_Year          1459 non-null   int64  \n",
      " 20  Remodel_Year               1459 non-null   int64  \n",
      " 21  Roof_Design                1459 non-null   object \n",
      " 22  Roof_Quality               1459 non-null   object \n",
      " 23  Exterior1st                1459 non-null   object \n",
      " 24  Exterior2nd                1459 non-null   object \n",
      " 25  Brick_Veneer_Type          1459 non-null   object \n",
      " 26  Brick_Veneer_Area          1459 non-null   float64\n",
      " 27  Exterior_Material          1459 non-null   object \n",
      " 28  Exterior_Condition         1459 non-null   object \n",
      " 29  Foundation_Type            1459 non-null   object \n",
      " 30  Basement_Height            1459 non-null   object \n",
      " 31  Basement_Condition         1459 non-null   object \n",
      " 32  Exposure_Level             1459 non-null   object \n",
      " 33  BsmtFinType1               1459 non-null   object \n",
      " 34  BsmtFinSF1                 1459 non-null   int64  \n",
      " 35  BsmtFinType2               1459 non-null   object \n",
      " 36  BsmtFinSF2                 1459 non-null   int64  \n",
      " 37  BsmtUnfSF                  1459 non-null   int64  \n",
      " 38  Total_Basement_Area        1459 non-null   int64  \n",
      " 39  Heating_Type               1459 non-null   object \n",
      " 40  Heating_Quality            1459 non-null   object \n",
      " 41  Air_Conditioning           1459 non-null   object \n",
      " 42  Electrical_System          1459 non-null   object \n",
      " 43  First_Floor_Area           1459 non-null   int64  \n",
      " 44  Second_Floor_Area          1459 non-null   int64  \n",
      " 45  LowQualFinSF               1459 non-null   int64  \n",
      " 46  Grade_Living_Area          1459 non-null   int64  \n",
      " 47  Underground_Full_Bathroom  1459 non-null   int64  \n",
      " 48  Underground_Half_Bathroom  1459 non-null   int64  \n",
      " 49  Full_Bathroom_Above_Grade  1459 non-null   int64  \n",
      " 50  Half_Bathroom_Above_Grade  1459 non-null   int64  \n",
      " 51  Bedroom_Above_Grade        1459 non-null   int64  \n",
      " 52  Kitchen_Above_Grade        1459 non-null   int64  \n",
      " 53  Kitchen_Quality            1459 non-null   object \n",
      " 54  Rooms_Above_Grade          1459 non-null   int64  \n",
      " 55  Functional_Rate            1459 non-null   object \n",
      " 56  Fireplaces                 1459 non-null   int64  \n",
      " 57  Fireplace_Quality          1459 non-null   object \n",
      " 58  Garage                     1459 non-null   object \n",
      " 59  Garage_Built_Year          1459 non-null   float64\n",
      " 60  Garage_Finish_Year         1459 non-null   object \n",
      " 61  Garage_Size                1459 non-null   int64  \n",
      " 62  Garage_Area                1459 non-null   float64\n",
      " 63  Garage_Quality             1459 non-null   object \n",
      " 64  Garage_Condition           1459 non-null   object \n",
      " 65  Pavedd_Drive               1459 non-null   object \n",
      " 66  W_Deck_Area                1459 non-null   float64\n",
      " 67  Open_Lobby_Area            1459 non-null   float64\n",
      " 68  Enclosed_Lobby_Area        1459 non-null   float64\n",
      " 69  Three_Season_Lobby_Area    1459 non-null   int64  \n",
      " 70  Screen_Lobby_Area          1459 non-null   int64  \n",
      " 71  Pool_Area                  1459 non-null   int64  \n",
      " 72  Pool_Quality               1459 non-null   object \n",
      " 73  Fence_Quality              1459 non-null   object \n",
      " 74  Miscellaneous_Feature      1459 non-null   object \n",
      " 75  Miscellaneous_Value        1459 non-null   int64  \n",
      " 76  Month_Sold                 1459 non-null   int64  \n",
      " 77  Year_Sold                  1459 non-null   int64  \n",
      " 78  Sale_Type                  1459 non-null   object \n",
      " 79  Sale_Condition             1459 non-null   object \n",
      " 80  Sale_Price                 1459 non-null   int64  \n",
      "dtypes: float64(7), int64(31), object(43)\n",
      "memory usage: 923.4+ KB\n"
     ]
    }
   ],
   "source": [
    "ptt.info()"
   ]
  },
  {
   "cell_type": "code",
   "execution_count": 6,
   "id": "1381724f",
   "metadata": {},
   "outputs": [],
   "source": [
    "ptt.Zoning_Class.replace({'RLD': 0, 'RMD': 1,'Commer': 2,'FVR':3,'RHD':4 }, inplace = True)\n",
    "ptt.Road_Type.replace({'Paved':0 ,'Gravel': 1 }, inplace = True)\n",
    "ptt.Lane_Type.replace({'Grvl': 0,'Paved': 1 }, inplace = True)\n",
    "ptt.Property_Shape.replace({'Reg': 0, 'IR1':1, 'IR2':2, 'IR3':3 }, inplace = True)\n",
    "ptt.Land_Outline.replace({'Lvl':0, 'Bnk': 1, 'Low':2, 'HLS':3 }, inplace = True)\n",
    "ptt.Utility_Type.replace({'AllPub': 0, 'NoSeWa': 1 }, inplace = True)\n",
    "ptt.Lot_Configuration.replace({'I':0, 'FR2P': 1,'C':2, 'CulDSac':3, 'FR3P':4  }, inplace = True)\n",
    "ptt.Property_Slope.replace({'GS':0, 'MS':1, 'SS':2 }, inplace = True)\n",
    "ptt.Neighborhood.replace({'CollgCr':0,'Veenker':1,'Crawfor':2, 'NoRidge':3,'Mitchel':4,'Somerst':5,'NWAmes':6,\n",
    "                        'OldTown':7, 'BrkSide':8,'Sawyer':9,'NridgHt':10,'NAmes':11,'SawyerW':12,'IDOTRR':13,\n",
    "                         'MeadowV':14,'Edwards':15,'Timber':16,'Gilbert':17,'StoneBr':18, 'ClearCr':19,'NPkVill':20,\n",
    "                         'Blmngtn':21,'BrDale':22,'SWISU':23,'Blueste':24 }, inplace = True)\n",
    "ptt.Condition1.replace({'Norm':0,'Feedr':1, 'PosN':2,'Artery':3, 'RRAe':4,'RRNn':5,'RRAn':6,'PosA':7,\n",
    "                       'RRNe':8}, inplace = True)\n",
    "ptt.Condition2.replace({'Norm':0,'Artery':1,'RRNn':2,'Feedr':3,'PosN':4,'PosA':5,'RRAn':6,'RRAe':7}, inplace = True)\n",
    "ptt.House_Type.replace({'1Fam':0,'2fmCon':1,'Duplex':2,'TwnhsE':3,'Twnhs':4}, inplace = True)\n",
    "ptt.House_Design.replace({'2Story':0,'1Story':1,'1.5Fin':2,'1.5Unf':3,'SFoyer':4,'SLvl':5,\n",
    "                        '2.5Unf':6 }, inplace = True)\n",
    "ptt.Roof_Design.replace({'Gable':0,'Hip':1,'Gambrel':2,'Mansard':3,'Flat':4,'Shed':5 }, inplace = True)\n",
    "ptt.Roof_Quality.replace({'SS':0,'WSh':1, 'ME':2,'WS':3,'M':4, 'TG':5,'R':6,'CT':7}, inplace = True)\n",
    "ptt.Exterior1st.replace({'VinylSd':0,'MetalSd':1,'Wd Sdng':2,'HdBoard':3,'BrkFace':4,'WdShing':5,\n",
    "                        'CemntBd':6, 'Plywood':7,'AsbShng':8,'Stucco':9,'BrkComm':10,'AsphShn':11,\n",
    "                        'Stone':12,'ImStucc':13,'CBlock':14}, inplace = True)\n",
    "ptt.Exterior2nd.replace({'VinylSd':0,'MetalSd':1,'Wd Shng':2,'HdBoard':3,'Plywood':4,'Wd Sdng':5,\n",
    "                        'CmentBd':6,'BrkFace':7, 'Stucco':8, 'AsbShng':9,'Brk Cmn':10,\n",
    "                        'ImStucc':11,'AsphShn':12,'Stone':13,'Other':14,'CBlock':15 }, inplace = True)\n",
    "ptt.Brick_Veneer_Type.replace({'BrkFace':0,'None':1,'Stone':2,'BrkCmn':3 }, inplace = True)\n",
    "ptt.Exterior_Material.replace({'Gd':0,'TA':1,'Ex':2,'Fa':3}, inplace = True)\n",
    "ptt.Exterior_Condition.replace({'TA':0,'Gd':1,'Fa':2,'Po':3,'Ex':4}, inplace = True)\n",
    "ptt.Foundation_Type.replace({'PC':0,'CB':1,'BT':2,'W':3,'SL':4,'S':5}, inplace = True)\n",
    "ptt.Basement_Height.replace({'Gd':0,'TA':1,'Ex':2, 'Fa': 3},inplace = True)\n",
    "ptt.Basement_Condition.replace({'TA':0,'Gd':1,'Fa':2,'Po':3}, inplace = True)\n",
    "ptt.Exposure_Level.replace({'No':0,'Gd':1,'Mn':2,'Av':3}, inplace = True)\n",
    "ptt.BsmtFinType1.replace({'GLQ':0,'ALQ':1,'Unf':2,'Rec':3,'BLQ':4,'LwQ':5 }, inplace = True)\n",
    "ptt.BsmtFinType2.replace({'Unf':0,'BLQ':1,'ALQ':2,'Rec':3,'LwQ':4,'GLQ':5}, inplace = True)\n",
    "ptt.Heating_Type.replace({'GasA':0,'GasW':1,'Grav':2,'Wall':3,'OthW':4,'Floor':5}, inplace = True)\n",
    "ptt.Heating_Quality.replace({'Ex':0,'Gd':1,'TA':2,'Fa':3,'Po':4}, inplace = True)\n",
    "ptt.Air_Conditioning.replace({'Y':1,'N':0 }, inplace = True)\n",
    "ptt.Electrical_System.replace({'SBrkr':0,'FuseF':1,'FuseA':2,'FuseP':3,'Mix':4 }, inplace = True)\n",
    "ptt.Kitchen_Quality.replace({'Gd':0,'TA':1,'Ex':2,'Fa':3}, inplace = True)\n",
    "ptt.Functional_Rate.replace({'TF':0,'MD1':1,'MajD1':2,'MD2':3,'MD':4,'MajD2':5,'SD':6,'MS':7}, inplace = True)\n",
    "ptt.Fireplace_Quality.replace({'Gd':0,'TA':1,'Fa':2,'Ex':3,'Po':4}, inplace = True)\n",
    "ptt.Garage.replace({'Attchd':0,'Detchd':1,'BuiltIn':2,'CarPort':3,'Basment':4,'2TFes':5,'2Types':6}, inplace = True)\n",
    "ptt.Garage_Finish_Year.replace({'RFn':0,'Unf':1,'Fin':2}, inplace = True)\n",
    "ptt.Garage_Quality.replace({'TA':0,'Fa':1,'Gd':2,'Ex':3,'Po':4}, inplace = True)\n",
    "ptt.Garage_Condition.replace({'TA':0,'Fa':1,'Gd':2,'Ex':3,'Po':4}, inplace = True)\n",
    "ptt.Pavedd_Drive.replace({'Y':1,'N':0,'P':2 }, inplace = True)\n",
    "ptt.Pool_Quality.replace({'Gd':0,'Ex':1,'Fa':2 }, inplace = True)\n",
    "ptt.Fence_Quality.replace({'MnPrv':0,'GdWo':1,'GdPrv':2,'MnWw':3 }, inplace = True)\n",
    "ptt.Miscellaneous_Feature.replace({'Shed':0,'Gar2':1,'Othr':2,'TenC':3}, inplace = True)\n",
    "ptt.Sale_Type.replace({'WD':0,'New':1,'COD':2,'ConLD':3,'ConLI':4,'CWD':5,'ConLw':6,'Con':7,'Oth':8}, inplace = True)\n",
    "ptt.Sale_Condition.replace({'Normal':0,'Abnorml':1,'Partial':2,'AdjLand':3,'Alloca':4,'Family':5}, inplace = True)\n",
    "ptt.House_Design.replace({'0':0,'1':1,'2':2,'3':3,'4':4,'5':5,'6':6,'2.5Fin':7}, inplace = True)"
   ]
  },
  {
   "cell_type": "code",
   "execution_count": 7,
   "id": "d26e6430",
   "metadata": {},
   "outputs": [],
   "source": [
    "ptt = ptt.drop(['Id','Lane_Type','Pool_Quality','Fence_Quality','Miscellaneous_Feature'], axis = 1)"
   ]
  },
  {
   "cell_type": "markdown",
   "id": "93654e53",
   "metadata": {},
   "source": [
    "# Train - Test split"
   ]
  },
  {
   "cell_type": "code",
   "execution_count": 8,
   "id": "27086d12",
   "metadata": {},
   "outputs": [],
   "source": [
    "from sklearn.model_selection import train_test_split"
   ]
  },
  {
   "cell_type": "code",
   "execution_count": 9,
   "id": "7bce8df5",
   "metadata": {},
   "outputs": [],
   "source": [
    "train_df, test_df = train_test_split(ptt, test_size=.2)"
   ]
  },
  {
   "cell_type": "code",
   "execution_count": 10,
   "id": "08625735",
   "metadata": {},
   "outputs": [],
   "source": [
    "X_train = train_df.iloc[::, 0:-1]\n",
    "y_train = train_df.iloc[::,-1]\n",
    "\n",
    "X_test = test_df.iloc[::,0:-1]\n",
    "y_test = test_df.iloc[::, -1]"
   ]
  },
  {
   "cell_type": "code",
   "execution_count": 11,
   "id": "e881cdc1",
   "metadata": {},
   "outputs": [],
   "source": [
    "eval_df = pd.DataFrame()\n",
    "from sklearn.metrics import *\n",
    "def check_model(model,comm ='base model', imp_feat = False):\n",
    "    global eval_df, pred_train, pred_test\n",
    "    if imp_feat == True:\n",
    "        xtr, ytr = X_train1, y_train1\n",
    "        xts, yts = X_test1, y_test1\n",
    "        comm = 'with feature selection'\n",
    "    else:\n",
    "        xtr, ytr = X_train, y_train\n",
    "        xts, yts = X_test, y_test\n",
    "        \n",
    "    #model training and prediction\n",
    "    model.fit(xtr, ytr)\n",
    "    pred_train = model.predict(xtr)\n",
    "    pred_test = model.predict(xts)\n",
    "    # evaluation matrics\n",
    "    train_score = model.score(xtr, ytr)\n",
    "    test_score = model.score(xts, yts)\n",
    "    N = xtr.shape[0]\n",
    "    K = xtr.shape[1]\n",
    "    Adj_R2 = 1 - ((1-train_score)*(N-1)/(N-K-1))\n",
    "    \n",
    "    mse_train = mean_squared_error(ytr, pred_train)\n",
    "    rmse_train = np.sqrt(mse_train)\n",
    "    mape_train = mean_absolute_percentage_error(ytr, pred_train)\n",
    "    \n",
    "    mse_test = mean_squared_error(yts, pred_test)\n",
    "    rmse_test = np.sqrt(mse_test)\n",
    "    mape_test = mean_absolute_percentage_error(yts, pred_test)\n",
    "    # evaluation storing\n",
    "    if str(model).find('CatBoostRegressor') != -1:\n",
    "        model_name = 'CatBoost'\n",
    "    else:\n",
    "        model_name = str(model).split('Reg')[0].split('(')[0]\n",
    "    temp = pd.DataFrame({'Model':model_name,'Comment': comm,\n",
    "                         'R2_train':train_score,'Adj_R2':Adj_R2, 'R2_test':test_score,\n",
    "                         'mse_train':mse_train,       'mse_test':mse_test,\n",
    "                         'rmse_train':rmse_train,     'rmse_test':rmse_test,\n",
    "                         'mape_train':mape_train,     'mape_test':mape_test,}, index = [1])\n",
    "    eval_df = pd.concat([temp,eval_df]).reset_index(drop = True)\n",
    "    return eval_df.style.highlight_max(subset=['R2_train','R2_test'])\\\n",
    "            .highlight_min(subset=['mse_train','mse_test','rmse_train','rmse_test','mape_train','mape_test'])"
   ]
  },
  {
   "cell_type": "code",
   "execution_count": 12,
   "id": "ef4c2ae4",
   "metadata": {},
   "outputs": [],
   "source": [
    "from sklearn.linear_model import LinearRegression\n",
    "linear = LinearRegression()"
   ]
  },
  {
   "cell_type": "code",
   "execution_count": 13,
   "id": "5f92f93c",
   "metadata": {},
   "outputs": [
    {
     "data": {
      "text/html": [
       "<style>#sk-container-id-1 {color: black;background-color: white;}#sk-container-id-1 pre{padding: 0;}#sk-container-id-1 div.sk-toggleable {background-color: white;}#sk-container-id-1 label.sk-toggleable__label {cursor: pointer;display: block;width: 100%;margin-bottom: 0;padding: 0.3em;box-sizing: border-box;text-align: center;}#sk-container-id-1 label.sk-toggleable__label-arrow:before {content: \"▸\";float: left;margin-right: 0.25em;color: #696969;}#sk-container-id-1 label.sk-toggleable__label-arrow:hover:before {color: black;}#sk-container-id-1 div.sk-estimator:hover label.sk-toggleable__label-arrow:before {color: black;}#sk-container-id-1 div.sk-toggleable__content {max-height: 0;max-width: 0;overflow: hidden;text-align: left;background-color: #f0f8ff;}#sk-container-id-1 div.sk-toggleable__content pre {margin: 0.2em;color: black;border-radius: 0.25em;background-color: #f0f8ff;}#sk-container-id-1 input.sk-toggleable__control:checked~div.sk-toggleable__content {max-height: 200px;max-width: 100%;overflow: auto;}#sk-container-id-1 input.sk-toggleable__control:checked~label.sk-toggleable__label-arrow:before {content: \"▾\";}#sk-container-id-1 div.sk-estimator input.sk-toggleable__control:checked~label.sk-toggleable__label {background-color: #d4ebff;}#sk-container-id-1 div.sk-label input.sk-toggleable__control:checked~label.sk-toggleable__label {background-color: #d4ebff;}#sk-container-id-1 input.sk-hidden--visually {border: 0;clip: rect(1px 1px 1px 1px);clip: rect(1px, 1px, 1px, 1px);height: 1px;margin: -1px;overflow: hidden;padding: 0;position: absolute;width: 1px;}#sk-container-id-1 div.sk-estimator {font-family: monospace;background-color: #f0f8ff;border: 1px dotted black;border-radius: 0.25em;box-sizing: border-box;margin-bottom: 0.5em;}#sk-container-id-1 div.sk-estimator:hover {background-color: #d4ebff;}#sk-container-id-1 div.sk-parallel-item::after {content: \"\";width: 100%;border-bottom: 1px solid gray;flex-grow: 1;}#sk-container-id-1 div.sk-label:hover label.sk-toggleable__label {background-color: #d4ebff;}#sk-container-id-1 div.sk-serial::before {content: \"\";position: absolute;border-left: 1px solid gray;box-sizing: border-box;top: 0;bottom: 0;left: 50%;z-index: 0;}#sk-container-id-1 div.sk-serial {display: flex;flex-direction: column;align-items: center;background-color: white;padding-right: 0.2em;padding-left: 0.2em;position: relative;}#sk-container-id-1 div.sk-item {position: relative;z-index: 1;}#sk-container-id-1 div.sk-parallel {display: flex;align-items: stretch;justify-content: center;background-color: white;position: relative;}#sk-container-id-1 div.sk-item::before, #sk-container-id-1 div.sk-parallel-item::before {content: \"\";position: absolute;border-left: 1px solid gray;box-sizing: border-box;top: 0;bottom: 0;left: 50%;z-index: -1;}#sk-container-id-1 div.sk-parallel-item {display: flex;flex-direction: column;z-index: 1;position: relative;background-color: white;}#sk-container-id-1 div.sk-parallel-item:first-child::after {align-self: flex-end;width: 50%;}#sk-container-id-1 div.sk-parallel-item:last-child::after {align-self: flex-start;width: 50%;}#sk-container-id-1 div.sk-parallel-item:only-child::after {width: 0;}#sk-container-id-1 div.sk-dashed-wrapped {border: 1px dashed gray;margin: 0 0.4em 0.5em 0.4em;box-sizing: border-box;padding-bottom: 0.4em;background-color: white;}#sk-container-id-1 div.sk-label label {font-family: monospace;font-weight: bold;display: inline-block;line-height: 1.2em;}#sk-container-id-1 div.sk-label-container {text-align: center;}#sk-container-id-1 div.sk-container {/* jupyter's `normalize.less` sets `[hidden] { display: none; }` but bootstrap.min.css set `[hidden] { display: none !important; }` so we also need the `!important` here to be able to override the default hidden behavior on the sphinx rendered scikit-learn.org. See: https://github.com/scikit-learn/scikit-learn/issues/21755 */display: inline-block !important;position: relative;}#sk-container-id-1 div.sk-text-repr-fallback {display: none;}</style><div id=\"sk-container-id-1\" class=\"sk-top-container\"><div class=\"sk-text-repr-fallback\"><pre>LinearRegression()</pre><b>In a Jupyter environment, please rerun this cell to show the HTML representation or trust the notebook. <br />On GitHub, the HTML representation is unable to render, please try loading this page with nbviewer.org.</b></div><div class=\"sk-container\" hidden><div class=\"sk-item\"><div class=\"sk-estimator sk-toggleable\"><input class=\"sk-toggleable__control sk-hidden--visually\" id=\"sk-estimator-id-1\" type=\"checkbox\" checked><label for=\"sk-estimator-id-1\" class=\"sk-toggleable__label sk-toggleable__label-arrow\">LinearRegression</label><div class=\"sk-toggleable__content\"><pre>LinearRegression()</pre></div></div></div></div></div>"
      ],
      "text/plain": [
       "LinearRegression()"
      ]
     },
     "execution_count": 13,
     "metadata": {},
     "output_type": "execute_result"
    }
   ],
   "source": [
    "linear.fit(X_train, y_train)"
   ]
  },
  {
   "cell_type": "code",
   "execution_count": 14,
   "id": "3c54f1d6",
   "metadata": {},
   "outputs": [
    {
     "data": {
      "text/html": [
       "<style type=\"text/css\">\n",
       "#T_32e73_row0_col2, #T_32e73_row0_col4, #T_32e73_row0_col5, #T_32e73_row0_col6, #T_32e73_row0_col7, #T_32e73_row0_col8, #T_32e73_row0_col9, #T_32e73_row0_col10 {\n",
       "  background-color: yellow;\n",
       "}\n",
       "</style>\n",
       "<table id=\"T_32e73\">\n",
       "  <thead>\n",
       "    <tr>\n",
       "      <th class=\"blank level0\" >&nbsp;</th>\n",
       "      <th id=\"T_32e73_level0_col0\" class=\"col_heading level0 col0\" >Model</th>\n",
       "      <th id=\"T_32e73_level0_col1\" class=\"col_heading level0 col1\" >Comment</th>\n",
       "      <th id=\"T_32e73_level0_col2\" class=\"col_heading level0 col2\" >R2_train</th>\n",
       "      <th id=\"T_32e73_level0_col3\" class=\"col_heading level0 col3\" >Adj_R2</th>\n",
       "      <th id=\"T_32e73_level0_col4\" class=\"col_heading level0 col4\" >R2_test</th>\n",
       "      <th id=\"T_32e73_level0_col5\" class=\"col_heading level0 col5\" >mse_train</th>\n",
       "      <th id=\"T_32e73_level0_col6\" class=\"col_heading level0 col6\" >mse_test</th>\n",
       "      <th id=\"T_32e73_level0_col7\" class=\"col_heading level0 col7\" >rmse_train</th>\n",
       "      <th id=\"T_32e73_level0_col8\" class=\"col_heading level0 col8\" >rmse_test</th>\n",
       "      <th id=\"T_32e73_level0_col9\" class=\"col_heading level0 col9\" >mape_train</th>\n",
       "      <th id=\"T_32e73_level0_col10\" class=\"col_heading level0 col10\" >mape_test</th>\n",
       "    </tr>\n",
       "  </thead>\n",
       "  <tbody>\n",
       "    <tr>\n",
       "      <th id=\"T_32e73_level0_row0\" class=\"row_heading level0 row0\" >0</th>\n",
       "      <td id=\"T_32e73_row0_col0\" class=\"data row0 col0\" >Linear</td>\n",
       "      <td id=\"T_32e73_row0_col1\" class=\"data row0 col1\" >base model</td>\n",
       "      <td id=\"T_32e73_row0_col2\" class=\"data row0 col2\" >0.854704</td>\n",
       "      <td id=\"T_32e73_row0_col3\" class=\"data row0 col3\" >0.844715</td>\n",
       "      <td id=\"T_32e73_row0_col4\" class=\"data row0 col4\" >0.756059</td>\n",
       "      <td id=\"T_32e73_row0_col5\" class=\"data row0 col5\" >959401647.854762</td>\n",
       "      <td id=\"T_32e73_row0_col6\" class=\"data row0 col6\" >1250899301.586535</td>\n",
       "      <td id=\"T_32e73_row0_col7\" class=\"data row0 col7\" >30974.209398</td>\n",
       "      <td id=\"T_32e73_row0_col8\" class=\"data row0 col8\" >35368.054818</td>\n",
       "      <td id=\"T_32e73_row0_col9\" class=\"data row0 col9\" >0.117026</td>\n",
       "      <td id=\"T_32e73_row0_col10\" class=\"data row0 col10\" >0.130389</td>\n",
       "    </tr>\n",
       "  </tbody>\n",
       "</table>\n"
      ],
      "text/plain": [
       "<pandas.io.formats.style.Styler at 0x1c23ccb7eb0>"
      ]
     },
     "execution_count": 14,
     "metadata": {},
     "output_type": "execute_result"
    }
   ],
   "source": [
    "check_model(linear)"
   ]
  },
  {
   "cell_type": "code",
   "execution_count": 15,
   "id": "71ff80a3",
   "metadata": {},
   "outputs": [],
   "source": [
    "from sklearn.linear_model import SGDRegressor\n",
    "sgd = SGDRegressor()"
   ]
  },
  {
   "cell_type": "code",
   "execution_count": 16,
   "id": "88e69601",
   "metadata": {},
   "outputs": [
    {
     "data": {
      "text/html": [
       "<style>#sk-container-id-2 {color: black;background-color: white;}#sk-container-id-2 pre{padding: 0;}#sk-container-id-2 div.sk-toggleable {background-color: white;}#sk-container-id-2 label.sk-toggleable__label {cursor: pointer;display: block;width: 100%;margin-bottom: 0;padding: 0.3em;box-sizing: border-box;text-align: center;}#sk-container-id-2 label.sk-toggleable__label-arrow:before {content: \"▸\";float: left;margin-right: 0.25em;color: #696969;}#sk-container-id-2 label.sk-toggleable__label-arrow:hover:before {color: black;}#sk-container-id-2 div.sk-estimator:hover label.sk-toggleable__label-arrow:before {color: black;}#sk-container-id-2 div.sk-toggleable__content {max-height: 0;max-width: 0;overflow: hidden;text-align: left;background-color: #f0f8ff;}#sk-container-id-2 div.sk-toggleable__content pre {margin: 0.2em;color: black;border-radius: 0.25em;background-color: #f0f8ff;}#sk-container-id-2 input.sk-toggleable__control:checked~div.sk-toggleable__content {max-height: 200px;max-width: 100%;overflow: auto;}#sk-container-id-2 input.sk-toggleable__control:checked~label.sk-toggleable__label-arrow:before {content: \"▾\";}#sk-container-id-2 div.sk-estimator input.sk-toggleable__control:checked~label.sk-toggleable__label {background-color: #d4ebff;}#sk-container-id-2 div.sk-label input.sk-toggleable__control:checked~label.sk-toggleable__label {background-color: #d4ebff;}#sk-container-id-2 input.sk-hidden--visually {border: 0;clip: rect(1px 1px 1px 1px);clip: rect(1px, 1px, 1px, 1px);height: 1px;margin: -1px;overflow: hidden;padding: 0;position: absolute;width: 1px;}#sk-container-id-2 div.sk-estimator {font-family: monospace;background-color: #f0f8ff;border: 1px dotted black;border-radius: 0.25em;box-sizing: border-box;margin-bottom: 0.5em;}#sk-container-id-2 div.sk-estimator:hover {background-color: #d4ebff;}#sk-container-id-2 div.sk-parallel-item::after {content: \"\";width: 100%;border-bottom: 1px solid gray;flex-grow: 1;}#sk-container-id-2 div.sk-label:hover label.sk-toggleable__label {background-color: #d4ebff;}#sk-container-id-2 div.sk-serial::before {content: \"\";position: absolute;border-left: 1px solid gray;box-sizing: border-box;top: 0;bottom: 0;left: 50%;z-index: 0;}#sk-container-id-2 div.sk-serial {display: flex;flex-direction: column;align-items: center;background-color: white;padding-right: 0.2em;padding-left: 0.2em;position: relative;}#sk-container-id-2 div.sk-item {position: relative;z-index: 1;}#sk-container-id-2 div.sk-parallel {display: flex;align-items: stretch;justify-content: center;background-color: white;position: relative;}#sk-container-id-2 div.sk-item::before, #sk-container-id-2 div.sk-parallel-item::before {content: \"\";position: absolute;border-left: 1px solid gray;box-sizing: border-box;top: 0;bottom: 0;left: 50%;z-index: -1;}#sk-container-id-2 div.sk-parallel-item {display: flex;flex-direction: column;z-index: 1;position: relative;background-color: white;}#sk-container-id-2 div.sk-parallel-item:first-child::after {align-self: flex-end;width: 50%;}#sk-container-id-2 div.sk-parallel-item:last-child::after {align-self: flex-start;width: 50%;}#sk-container-id-2 div.sk-parallel-item:only-child::after {width: 0;}#sk-container-id-2 div.sk-dashed-wrapped {border: 1px dashed gray;margin: 0 0.4em 0.5em 0.4em;box-sizing: border-box;padding-bottom: 0.4em;background-color: white;}#sk-container-id-2 div.sk-label label {font-family: monospace;font-weight: bold;display: inline-block;line-height: 1.2em;}#sk-container-id-2 div.sk-label-container {text-align: center;}#sk-container-id-2 div.sk-container {/* jupyter's `normalize.less` sets `[hidden] { display: none; }` but bootstrap.min.css set `[hidden] { display: none !important; }` so we also need the `!important` here to be able to override the default hidden behavior on the sphinx rendered scikit-learn.org. See: https://github.com/scikit-learn/scikit-learn/issues/21755 */display: inline-block !important;position: relative;}#sk-container-id-2 div.sk-text-repr-fallback {display: none;}</style><div id=\"sk-container-id-2\" class=\"sk-top-container\"><div class=\"sk-text-repr-fallback\"><pre>SGDRegressor()</pre><b>In a Jupyter environment, please rerun this cell to show the HTML representation or trust the notebook. <br />On GitHub, the HTML representation is unable to render, please try loading this page with nbviewer.org.</b></div><div class=\"sk-container\" hidden><div class=\"sk-item\"><div class=\"sk-estimator sk-toggleable\"><input class=\"sk-toggleable__control sk-hidden--visually\" id=\"sk-estimator-id-2\" type=\"checkbox\" checked><label for=\"sk-estimator-id-2\" class=\"sk-toggleable__label sk-toggleable__label-arrow\">SGDRegressor</label><div class=\"sk-toggleable__content\"><pre>SGDRegressor()</pre></div></div></div></div></div>"
      ],
      "text/plain": [
       "SGDRegressor()"
      ]
     },
     "execution_count": 16,
     "metadata": {},
     "output_type": "execute_result"
    }
   ],
   "source": [
    "sgd.fit(X_train, y_train)"
   ]
  },
  {
   "cell_type": "code",
   "execution_count": 17,
   "id": "c13ba30d",
   "metadata": {},
   "outputs": [
    {
     "data": {
      "text/html": [
       "<style type=\"text/css\">\n",
       "#T_c6e30_row1_col2, #T_c6e30_row1_col4, #T_c6e30_row1_col5, #T_c6e30_row1_col6, #T_c6e30_row1_col7, #T_c6e30_row1_col8, #T_c6e30_row1_col9, #T_c6e30_row1_col10 {\n",
       "  background-color: yellow;\n",
       "}\n",
       "</style>\n",
       "<table id=\"T_c6e30\">\n",
       "  <thead>\n",
       "    <tr>\n",
       "      <th class=\"blank level0\" >&nbsp;</th>\n",
       "      <th id=\"T_c6e30_level0_col0\" class=\"col_heading level0 col0\" >Model</th>\n",
       "      <th id=\"T_c6e30_level0_col1\" class=\"col_heading level0 col1\" >Comment</th>\n",
       "      <th id=\"T_c6e30_level0_col2\" class=\"col_heading level0 col2\" >R2_train</th>\n",
       "      <th id=\"T_c6e30_level0_col3\" class=\"col_heading level0 col3\" >Adj_R2</th>\n",
       "      <th id=\"T_c6e30_level0_col4\" class=\"col_heading level0 col4\" >R2_test</th>\n",
       "      <th id=\"T_c6e30_level0_col5\" class=\"col_heading level0 col5\" >mse_train</th>\n",
       "      <th id=\"T_c6e30_level0_col6\" class=\"col_heading level0 col6\" >mse_test</th>\n",
       "      <th id=\"T_c6e30_level0_col7\" class=\"col_heading level0 col7\" >rmse_train</th>\n",
       "      <th id=\"T_c6e30_level0_col8\" class=\"col_heading level0 col8\" >rmse_test</th>\n",
       "      <th id=\"T_c6e30_level0_col9\" class=\"col_heading level0 col9\" >mape_train</th>\n",
       "      <th id=\"T_c6e30_level0_col10\" class=\"col_heading level0 col10\" >mape_test</th>\n",
       "    </tr>\n",
       "  </thead>\n",
       "  <tbody>\n",
       "    <tr>\n",
       "      <th id=\"T_c6e30_level0_row0\" class=\"row_heading level0 row0\" >0</th>\n",
       "      <td id=\"T_c6e30_row0_col0\" class=\"data row0 col0\" >SGD</td>\n",
       "      <td id=\"T_c6e30_row0_col1\" class=\"data row0 col1\" >base model</td>\n",
       "      <td id=\"T_c6e30_row0_col2\" class=\"data row0 col2\" >-1400058618141242166345728.000000</td>\n",
       "      <td id=\"T_c6e30_row0_col3\" class=\"data row0 col3\" >-1496304627637661179314176.000000</td>\n",
       "      <td id=\"T_c6e30_row0_col4\" class=\"data row0 col4\" >-2131944426992222792056832.000000</td>\n",
       "      <td id=\"T_c6e30_row0_col5\" class=\"data row0 col5\" >9244676452531247642005083544092672.000000</td>\n",
       "      <td id=\"T_c6e30_row0_col6\" class=\"data row0 col6\" >10932363146926539470156581543346176.000000</td>\n",
       "      <td id=\"T_c6e30_row0_col7\" class=\"data row0 col7\" >96149240519783872.000000</td>\n",
       "      <td id=\"T_c6e30_row0_col8\" class=\"data row0 col8\" >104557941577512608.000000</td>\n",
       "      <td id=\"T_c6e30_row0_col9\" class=\"data row0 col9\" >201704369959.156372</td>\n",
       "      <td id=\"T_c6e30_row0_col10\" class=\"data row0 col10\" >198866279517.877777</td>\n",
       "    </tr>\n",
       "    <tr>\n",
       "      <th id=\"T_c6e30_level0_row1\" class=\"row_heading level0 row1\" >1</th>\n",
       "      <td id=\"T_c6e30_row1_col0\" class=\"data row1 col0\" >Linear</td>\n",
       "      <td id=\"T_c6e30_row1_col1\" class=\"data row1 col1\" >base model</td>\n",
       "      <td id=\"T_c6e30_row1_col2\" class=\"data row1 col2\" >0.854704</td>\n",
       "      <td id=\"T_c6e30_row1_col3\" class=\"data row1 col3\" >0.844715</td>\n",
       "      <td id=\"T_c6e30_row1_col4\" class=\"data row1 col4\" >0.756059</td>\n",
       "      <td id=\"T_c6e30_row1_col5\" class=\"data row1 col5\" >959401647.854762</td>\n",
       "      <td id=\"T_c6e30_row1_col6\" class=\"data row1 col6\" >1250899301.586535</td>\n",
       "      <td id=\"T_c6e30_row1_col7\" class=\"data row1 col7\" >30974.209398</td>\n",
       "      <td id=\"T_c6e30_row1_col8\" class=\"data row1 col8\" >35368.054818</td>\n",
       "      <td id=\"T_c6e30_row1_col9\" class=\"data row1 col9\" >0.117026</td>\n",
       "      <td id=\"T_c6e30_row1_col10\" class=\"data row1 col10\" >0.130389</td>\n",
       "    </tr>\n",
       "  </tbody>\n",
       "</table>\n"
      ],
      "text/plain": [
       "<pandas.io.formats.style.Styler at 0x1c23d7603d0>"
      ]
     },
     "execution_count": 17,
     "metadata": {},
     "output_type": "execute_result"
    }
   ],
   "source": [
    "check_model(sgd)"
   ]
  },
  {
   "cell_type": "code",
   "execution_count": 18,
   "id": "860e7a2c",
   "metadata": {},
   "outputs": [],
   "source": [
    "from sklearn.linear_model import Ridge\n",
    "ridge = Ridge()"
   ]
  },
  {
   "cell_type": "code",
   "execution_count": 19,
   "id": "4df5c2eb",
   "metadata": {},
   "outputs": [
    {
     "data": {
      "text/html": [
       "<style>#sk-container-id-3 {color: black;background-color: white;}#sk-container-id-3 pre{padding: 0;}#sk-container-id-3 div.sk-toggleable {background-color: white;}#sk-container-id-3 label.sk-toggleable__label {cursor: pointer;display: block;width: 100%;margin-bottom: 0;padding: 0.3em;box-sizing: border-box;text-align: center;}#sk-container-id-3 label.sk-toggleable__label-arrow:before {content: \"▸\";float: left;margin-right: 0.25em;color: #696969;}#sk-container-id-3 label.sk-toggleable__label-arrow:hover:before {color: black;}#sk-container-id-3 div.sk-estimator:hover label.sk-toggleable__label-arrow:before {color: black;}#sk-container-id-3 div.sk-toggleable__content {max-height: 0;max-width: 0;overflow: hidden;text-align: left;background-color: #f0f8ff;}#sk-container-id-3 div.sk-toggleable__content pre {margin: 0.2em;color: black;border-radius: 0.25em;background-color: #f0f8ff;}#sk-container-id-3 input.sk-toggleable__control:checked~div.sk-toggleable__content {max-height: 200px;max-width: 100%;overflow: auto;}#sk-container-id-3 input.sk-toggleable__control:checked~label.sk-toggleable__label-arrow:before {content: \"▾\";}#sk-container-id-3 div.sk-estimator input.sk-toggleable__control:checked~label.sk-toggleable__label {background-color: #d4ebff;}#sk-container-id-3 div.sk-label input.sk-toggleable__control:checked~label.sk-toggleable__label {background-color: #d4ebff;}#sk-container-id-3 input.sk-hidden--visually {border: 0;clip: rect(1px 1px 1px 1px);clip: rect(1px, 1px, 1px, 1px);height: 1px;margin: -1px;overflow: hidden;padding: 0;position: absolute;width: 1px;}#sk-container-id-3 div.sk-estimator {font-family: monospace;background-color: #f0f8ff;border: 1px dotted black;border-radius: 0.25em;box-sizing: border-box;margin-bottom: 0.5em;}#sk-container-id-3 div.sk-estimator:hover {background-color: #d4ebff;}#sk-container-id-3 div.sk-parallel-item::after {content: \"\";width: 100%;border-bottom: 1px solid gray;flex-grow: 1;}#sk-container-id-3 div.sk-label:hover label.sk-toggleable__label {background-color: #d4ebff;}#sk-container-id-3 div.sk-serial::before {content: \"\";position: absolute;border-left: 1px solid gray;box-sizing: border-box;top: 0;bottom: 0;left: 50%;z-index: 0;}#sk-container-id-3 div.sk-serial {display: flex;flex-direction: column;align-items: center;background-color: white;padding-right: 0.2em;padding-left: 0.2em;position: relative;}#sk-container-id-3 div.sk-item {position: relative;z-index: 1;}#sk-container-id-3 div.sk-parallel {display: flex;align-items: stretch;justify-content: center;background-color: white;position: relative;}#sk-container-id-3 div.sk-item::before, #sk-container-id-3 div.sk-parallel-item::before {content: \"\";position: absolute;border-left: 1px solid gray;box-sizing: border-box;top: 0;bottom: 0;left: 50%;z-index: -1;}#sk-container-id-3 div.sk-parallel-item {display: flex;flex-direction: column;z-index: 1;position: relative;background-color: white;}#sk-container-id-3 div.sk-parallel-item:first-child::after {align-self: flex-end;width: 50%;}#sk-container-id-3 div.sk-parallel-item:last-child::after {align-self: flex-start;width: 50%;}#sk-container-id-3 div.sk-parallel-item:only-child::after {width: 0;}#sk-container-id-3 div.sk-dashed-wrapped {border: 1px dashed gray;margin: 0 0.4em 0.5em 0.4em;box-sizing: border-box;padding-bottom: 0.4em;background-color: white;}#sk-container-id-3 div.sk-label label {font-family: monospace;font-weight: bold;display: inline-block;line-height: 1.2em;}#sk-container-id-3 div.sk-label-container {text-align: center;}#sk-container-id-3 div.sk-container {/* jupyter's `normalize.less` sets `[hidden] { display: none; }` but bootstrap.min.css set `[hidden] { display: none !important; }` so we also need the `!important` here to be able to override the default hidden behavior on the sphinx rendered scikit-learn.org. See: https://github.com/scikit-learn/scikit-learn/issues/21755 */display: inline-block !important;position: relative;}#sk-container-id-3 div.sk-text-repr-fallback {display: none;}</style><div id=\"sk-container-id-3\" class=\"sk-top-container\"><div class=\"sk-text-repr-fallback\"><pre>Ridge()</pre><b>In a Jupyter environment, please rerun this cell to show the HTML representation or trust the notebook. <br />On GitHub, the HTML representation is unable to render, please try loading this page with nbviewer.org.</b></div><div class=\"sk-container\" hidden><div class=\"sk-item\"><div class=\"sk-estimator sk-toggleable\"><input class=\"sk-toggleable__control sk-hidden--visually\" id=\"sk-estimator-id-3\" type=\"checkbox\" checked><label for=\"sk-estimator-id-3\" class=\"sk-toggleable__label sk-toggleable__label-arrow\">Ridge</label><div class=\"sk-toggleable__content\"><pre>Ridge()</pre></div></div></div></div></div>"
      ],
      "text/plain": [
       "Ridge()"
      ]
     },
     "execution_count": 19,
     "metadata": {},
     "output_type": "execute_result"
    }
   ],
   "source": [
    "ridge.fit(X_train, y_train)"
   ]
  },
  {
   "cell_type": "code",
   "execution_count": 20,
   "id": "5524160f",
   "metadata": {},
   "outputs": [
    {
     "data": {
      "text/html": [
       "<style type=\"text/css\">\n",
       "#T_c38e9_row0_col4, #T_c38e9_row0_col6, #T_c38e9_row0_col8, #T_c38e9_row0_col9, #T_c38e9_row0_col10, #T_c38e9_row2_col2, #T_c38e9_row2_col5, #T_c38e9_row2_col7 {\n",
       "  background-color: yellow;\n",
       "}\n",
       "</style>\n",
       "<table id=\"T_c38e9\">\n",
       "  <thead>\n",
       "    <tr>\n",
       "      <th class=\"blank level0\" >&nbsp;</th>\n",
       "      <th id=\"T_c38e9_level0_col0\" class=\"col_heading level0 col0\" >Model</th>\n",
       "      <th id=\"T_c38e9_level0_col1\" class=\"col_heading level0 col1\" >Comment</th>\n",
       "      <th id=\"T_c38e9_level0_col2\" class=\"col_heading level0 col2\" >R2_train</th>\n",
       "      <th id=\"T_c38e9_level0_col3\" class=\"col_heading level0 col3\" >Adj_R2</th>\n",
       "      <th id=\"T_c38e9_level0_col4\" class=\"col_heading level0 col4\" >R2_test</th>\n",
       "      <th id=\"T_c38e9_level0_col5\" class=\"col_heading level0 col5\" >mse_train</th>\n",
       "      <th id=\"T_c38e9_level0_col6\" class=\"col_heading level0 col6\" >mse_test</th>\n",
       "      <th id=\"T_c38e9_level0_col7\" class=\"col_heading level0 col7\" >rmse_train</th>\n",
       "      <th id=\"T_c38e9_level0_col8\" class=\"col_heading level0 col8\" >rmse_test</th>\n",
       "      <th id=\"T_c38e9_level0_col9\" class=\"col_heading level0 col9\" >mape_train</th>\n",
       "      <th id=\"T_c38e9_level0_col10\" class=\"col_heading level0 col10\" >mape_test</th>\n",
       "    </tr>\n",
       "  </thead>\n",
       "  <tbody>\n",
       "    <tr>\n",
       "      <th id=\"T_c38e9_level0_row0\" class=\"row_heading level0 row0\" >0</th>\n",
       "      <td id=\"T_c38e9_row0_col0\" class=\"data row0 col0\" >Ridge</td>\n",
       "      <td id=\"T_c38e9_row0_col1\" class=\"data row0 col1\" >base model</td>\n",
       "      <td id=\"T_c38e9_row0_col2\" class=\"data row0 col2\" >0.854546</td>\n",
       "      <td id=\"T_c38e9_row0_col3\" class=\"data row0 col3\" >0.844547</td>\n",
       "      <td id=\"T_c38e9_row0_col4\" class=\"data row0 col4\" >0.757130</td>\n",
       "      <td id=\"T_c38e9_row0_col5\" class=\"data row0 col5\" >960440843.891848</td>\n",
       "      <td id=\"T_c38e9_row0_col6\" class=\"data row0 col6\" >1245411230.903868</td>\n",
       "      <td id=\"T_c38e9_row0_col7\" class=\"data row0 col7\" >30990.980041</td>\n",
       "      <td id=\"T_c38e9_row0_col8\" class=\"data row0 col8\" >35290.384397</td>\n",
       "      <td id=\"T_c38e9_row0_col9\" class=\"data row0 col9\" >0.117020</td>\n",
       "      <td id=\"T_c38e9_row0_col10\" class=\"data row0 col10\" >0.129793</td>\n",
       "    </tr>\n",
       "    <tr>\n",
       "      <th id=\"T_c38e9_level0_row1\" class=\"row_heading level0 row1\" >1</th>\n",
       "      <td id=\"T_c38e9_row1_col0\" class=\"data row1 col0\" >SGD</td>\n",
       "      <td id=\"T_c38e9_row1_col1\" class=\"data row1 col1\" >base model</td>\n",
       "      <td id=\"T_c38e9_row1_col2\" class=\"data row1 col2\" >-1400058618141242166345728.000000</td>\n",
       "      <td id=\"T_c38e9_row1_col3\" class=\"data row1 col3\" >-1496304627637661179314176.000000</td>\n",
       "      <td id=\"T_c38e9_row1_col4\" class=\"data row1 col4\" >-2131944426992222792056832.000000</td>\n",
       "      <td id=\"T_c38e9_row1_col5\" class=\"data row1 col5\" >9244676452531247642005083544092672.000000</td>\n",
       "      <td id=\"T_c38e9_row1_col6\" class=\"data row1 col6\" >10932363146926539470156581543346176.000000</td>\n",
       "      <td id=\"T_c38e9_row1_col7\" class=\"data row1 col7\" >96149240519783872.000000</td>\n",
       "      <td id=\"T_c38e9_row1_col8\" class=\"data row1 col8\" >104557941577512608.000000</td>\n",
       "      <td id=\"T_c38e9_row1_col9\" class=\"data row1 col9\" >201704369959.156372</td>\n",
       "      <td id=\"T_c38e9_row1_col10\" class=\"data row1 col10\" >198866279517.877777</td>\n",
       "    </tr>\n",
       "    <tr>\n",
       "      <th id=\"T_c38e9_level0_row2\" class=\"row_heading level0 row2\" >2</th>\n",
       "      <td id=\"T_c38e9_row2_col0\" class=\"data row2 col0\" >Linear</td>\n",
       "      <td id=\"T_c38e9_row2_col1\" class=\"data row2 col1\" >base model</td>\n",
       "      <td id=\"T_c38e9_row2_col2\" class=\"data row2 col2\" >0.854704</td>\n",
       "      <td id=\"T_c38e9_row2_col3\" class=\"data row2 col3\" >0.844715</td>\n",
       "      <td id=\"T_c38e9_row2_col4\" class=\"data row2 col4\" >0.756059</td>\n",
       "      <td id=\"T_c38e9_row2_col5\" class=\"data row2 col5\" >959401647.854762</td>\n",
       "      <td id=\"T_c38e9_row2_col6\" class=\"data row2 col6\" >1250899301.586535</td>\n",
       "      <td id=\"T_c38e9_row2_col7\" class=\"data row2 col7\" >30974.209398</td>\n",
       "      <td id=\"T_c38e9_row2_col8\" class=\"data row2 col8\" >35368.054818</td>\n",
       "      <td id=\"T_c38e9_row2_col9\" class=\"data row2 col9\" >0.117026</td>\n",
       "      <td id=\"T_c38e9_row2_col10\" class=\"data row2 col10\" >0.130389</td>\n",
       "    </tr>\n",
       "  </tbody>\n",
       "</table>\n"
      ],
      "text/plain": [
       "<pandas.io.formats.style.Styler at 0x1c23ccb4a90>"
      ]
     },
     "execution_count": 20,
     "metadata": {},
     "output_type": "execute_result"
    }
   ],
   "source": [
    "check_model(ridge)"
   ]
  },
  {
   "cell_type": "code",
   "execution_count": 21,
   "id": "5047c80b",
   "metadata": {},
   "outputs": [],
   "source": [
    "from sklearn.linear_model import Lasso\n",
    "lasso = Lasso()"
   ]
  },
  {
   "cell_type": "code",
   "execution_count": 22,
   "id": "496f7743",
   "metadata": {},
   "outputs": [
    {
     "data": {
      "text/html": [
       "<style>#sk-container-id-4 {color: black;background-color: white;}#sk-container-id-4 pre{padding: 0;}#sk-container-id-4 div.sk-toggleable {background-color: white;}#sk-container-id-4 label.sk-toggleable__label {cursor: pointer;display: block;width: 100%;margin-bottom: 0;padding: 0.3em;box-sizing: border-box;text-align: center;}#sk-container-id-4 label.sk-toggleable__label-arrow:before {content: \"▸\";float: left;margin-right: 0.25em;color: #696969;}#sk-container-id-4 label.sk-toggleable__label-arrow:hover:before {color: black;}#sk-container-id-4 div.sk-estimator:hover label.sk-toggleable__label-arrow:before {color: black;}#sk-container-id-4 div.sk-toggleable__content {max-height: 0;max-width: 0;overflow: hidden;text-align: left;background-color: #f0f8ff;}#sk-container-id-4 div.sk-toggleable__content pre {margin: 0.2em;color: black;border-radius: 0.25em;background-color: #f0f8ff;}#sk-container-id-4 input.sk-toggleable__control:checked~div.sk-toggleable__content {max-height: 200px;max-width: 100%;overflow: auto;}#sk-container-id-4 input.sk-toggleable__control:checked~label.sk-toggleable__label-arrow:before {content: \"▾\";}#sk-container-id-4 div.sk-estimator input.sk-toggleable__control:checked~label.sk-toggleable__label {background-color: #d4ebff;}#sk-container-id-4 div.sk-label input.sk-toggleable__control:checked~label.sk-toggleable__label {background-color: #d4ebff;}#sk-container-id-4 input.sk-hidden--visually {border: 0;clip: rect(1px 1px 1px 1px);clip: rect(1px, 1px, 1px, 1px);height: 1px;margin: -1px;overflow: hidden;padding: 0;position: absolute;width: 1px;}#sk-container-id-4 div.sk-estimator {font-family: monospace;background-color: #f0f8ff;border: 1px dotted black;border-radius: 0.25em;box-sizing: border-box;margin-bottom: 0.5em;}#sk-container-id-4 div.sk-estimator:hover {background-color: #d4ebff;}#sk-container-id-4 div.sk-parallel-item::after {content: \"\";width: 100%;border-bottom: 1px solid gray;flex-grow: 1;}#sk-container-id-4 div.sk-label:hover label.sk-toggleable__label {background-color: #d4ebff;}#sk-container-id-4 div.sk-serial::before {content: \"\";position: absolute;border-left: 1px solid gray;box-sizing: border-box;top: 0;bottom: 0;left: 50%;z-index: 0;}#sk-container-id-4 div.sk-serial {display: flex;flex-direction: column;align-items: center;background-color: white;padding-right: 0.2em;padding-left: 0.2em;position: relative;}#sk-container-id-4 div.sk-item {position: relative;z-index: 1;}#sk-container-id-4 div.sk-parallel {display: flex;align-items: stretch;justify-content: center;background-color: white;position: relative;}#sk-container-id-4 div.sk-item::before, #sk-container-id-4 div.sk-parallel-item::before {content: \"\";position: absolute;border-left: 1px solid gray;box-sizing: border-box;top: 0;bottom: 0;left: 50%;z-index: -1;}#sk-container-id-4 div.sk-parallel-item {display: flex;flex-direction: column;z-index: 1;position: relative;background-color: white;}#sk-container-id-4 div.sk-parallel-item:first-child::after {align-self: flex-end;width: 50%;}#sk-container-id-4 div.sk-parallel-item:last-child::after {align-self: flex-start;width: 50%;}#sk-container-id-4 div.sk-parallel-item:only-child::after {width: 0;}#sk-container-id-4 div.sk-dashed-wrapped {border: 1px dashed gray;margin: 0 0.4em 0.5em 0.4em;box-sizing: border-box;padding-bottom: 0.4em;background-color: white;}#sk-container-id-4 div.sk-label label {font-family: monospace;font-weight: bold;display: inline-block;line-height: 1.2em;}#sk-container-id-4 div.sk-label-container {text-align: center;}#sk-container-id-4 div.sk-container {/* jupyter's `normalize.less` sets `[hidden] { display: none; }` but bootstrap.min.css set `[hidden] { display: none !important; }` so we also need the `!important` here to be able to override the default hidden behavior on the sphinx rendered scikit-learn.org. See: https://github.com/scikit-learn/scikit-learn/issues/21755 */display: inline-block !important;position: relative;}#sk-container-id-4 div.sk-text-repr-fallback {display: none;}</style><div id=\"sk-container-id-4\" class=\"sk-top-container\"><div class=\"sk-text-repr-fallback\"><pre>Lasso()</pre><b>In a Jupyter environment, please rerun this cell to show the HTML representation or trust the notebook. <br />On GitHub, the HTML representation is unable to render, please try loading this page with nbviewer.org.</b></div><div class=\"sk-container\" hidden><div class=\"sk-item\"><div class=\"sk-estimator sk-toggleable\"><input class=\"sk-toggleable__control sk-hidden--visually\" id=\"sk-estimator-id-4\" type=\"checkbox\" checked><label for=\"sk-estimator-id-4\" class=\"sk-toggleable__label sk-toggleable__label-arrow\">Lasso</label><div class=\"sk-toggleable__content\"><pre>Lasso()</pre></div></div></div></div></div>"
      ],
      "text/plain": [
       "Lasso()"
      ]
     },
     "execution_count": 22,
     "metadata": {},
     "output_type": "execute_result"
    }
   ],
   "source": [
    "lasso.fit(X_train, y_train)"
   ]
  },
  {
   "cell_type": "code",
   "execution_count": 23,
   "id": "b30471b7",
   "metadata": {},
   "outputs": [
    {
     "data": {
      "text/html": [
       "<style type=\"text/css\">\n",
       "#T_0051a_row0_col9, #T_0051a_row1_col4, #T_0051a_row1_col6, #T_0051a_row1_col8, #T_0051a_row1_col10, #T_0051a_row3_col2, #T_0051a_row3_col5, #T_0051a_row3_col7 {\n",
       "  background-color: yellow;\n",
       "}\n",
       "</style>\n",
       "<table id=\"T_0051a\">\n",
       "  <thead>\n",
       "    <tr>\n",
       "      <th class=\"blank level0\" >&nbsp;</th>\n",
       "      <th id=\"T_0051a_level0_col0\" class=\"col_heading level0 col0\" >Model</th>\n",
       "      <th id=\"T_0051a_level0_col1\" class=\"col_heading level0 col1\" >Comment</th>\n",
       "      <th id=\"T_0051a_level0_col2\" class=\"col_heading level0 col2\" >R2_train</th>\n",
       "      <th id=\"T_0051a_level0_col3\" class=\"col_heading level0 col3\" >Adj_R2</th>\n",
       "      <th id=\"T_0051a_level0_col4\" class=\"col_heading level0 col4\" >R2_test</th>\n",
       "      <th id=\"T_0051a_level0_col5\" class=\"col_heading level0 col5\" >mse_train</th>\n",
       "      <th id=\"T_0051a_level0_col6\" class=\"col_heading level0 col6\" >mse_test</th>\n",
       "      <th id=\"T_0051a_level0_col7\" class=\"col_heading level0 col7\" >rmse_train</th>\n",
       "      <th id=\"T_0051a_level0_col8\" class=\"col_heading level0 col8\" >rmse_test</th>\n",
       "      <th id=\"T_0051a_level0_col9\" class=\"col_heading level0 col9\" >mape_train</th>\n",
       "      <th id=\"T_0051a_level0_col10\" class=\"col_heading level0 col10\" >mape_test</th>\n",
       "    </tr>\n",
       "  </thead>\n",
       "  <tbody>\n",
       "    <tr>\n",
       "      <th id=\"T_0051a_level0_row0\" class=\"row_heading level0 row0\" >0</th>\n",
       "      <td id=\"T_0051a_row0_col0\" class=\"data row0 col0\" >Lasso</td>\n",
       "      <td id=\"T_0051a_row0_col1\" class=\"data row0 col1\" >base model</td>\n",
       "      <td id=\"T_0051a_row0_col2\" class=\"data row0 col2\" >0.854703</td>\n",
       "      <td id=\"T_0051a_row0_col3\" class=\"data row0 col3\" >0.844715</td>\n",
       "      <td id=\"T_0051a_row0_col4\" class=\"data row0 col4\" >0.756098</td>\n",
       "      <td id=\"T_0051a_row0_col5\" class=\"data row0 col5\" >959403736.457111</td>\n",
       "      <td id=\"T_0051a_row0_col6\" class=\"data row0 col6\" >1250698802.678900</td>\n",
       "      <td id=\"T_0051a_row0_col7\" class=\"data row0 col7\" >30974.243114</td>\n",
       "      <td id=\"T_0051a_row0_col8\" class=\"data row0 col8\" >35365.220241</td>\n",
       "      <td id=\"T_0051a_row0_col9\" class=\"data row0 col9\" >0.117014</td>\n",
       "      <td id=\"T_0051a_row0_col10\" class=\"data row0 col10\" >0.130348</td>\n",
       "    </tr>\n",
       "    <tr>\n",
       "      <th id=\"T_0051a_level0_row1\" class=\"row_heading level0 row1\" >1</th>\n",
       "      <td id=\"T_0051a_row1_col0\" class=\"data row1 col0\" >Ridge</td>\n",
       "      <td id=\"T_0051a_row1_col1\" class=\"data row1 col1\" >base model</td>\n",
       "      <td id=\"T_0051a_row1_col2\" class=\"data row1 col2\" >0.854546</td>\n",
       "      <td id=\"T_0051a_row1_col3\" class=\"data row1 col3\" >0.844547</td>\n",
       "      <td id=\"T_0051a_row1_col4\" class=\"data row1 col4\" >0.757130</td>\n",
       "      <td id=\"T_0051a_row1_col5\" class=\"data row1 col5\" >960440843.891848</td>\n",
       "      <td id=\"T_0051a_row1_col6\" class=\"data row1 col6\" >1245411230.903868</td>\n",
       "      <td id=\"T_0051a_row1_col7\" class=\"data row1 col7\" >30990.980041</td>\n",
       "      <td id=\"T_0051a_row1_col8\" class=\"data row1 col8\" >35290.384397</td>\n",
       "      <td id=\"T_0051a_row1_col9\" class=\"data row1 col9\" >0.117020</td>\n",
       "      <td id=\"T_0051a_row1_col10\" class=\"data row1 col10\" >0.129793</td>\n",
       "    </tr>\n",
       "    <tr>\n",
       "      <th id=\"T_0051a_level0_row2\" class=\"row_heading level0 row2\" >2</th>\n",
       "      <td id=\"T_0051a_row2_col0\" class=\"data row2 col0\" >SGD</td>\n",
       "      <td id=\"T_0051a_row2_col1\" class=\"data row2 col1\" >base model</td>\n",
       "      <td id=\"T_0051a_row2_col2\" class=\"data row2 col2\" >-1400058618141242166345728.000000</td>\n",
       "      <td id=\"T_0051a_row2_col3\" class=\"data row2 col3\" >-1496304627637661179314176.000000</td>\n",
       "      <td id=\"T_0051a_row2_col4\" class=\"data row2 col4\" >-2131944426992222792056832.000000</td>\n",
       "      <td id=\"T_0051a_row2_col5\" class=\"data row2 col5\" >9244676452531247642005083544092672.000000</td>\n",
       "      <td id=\"T_0051a_row2_col6\" class=\"data row2 col6\" >10932363146926539470156581543346176.000000</td>\n",
       "      <td id=\"T_0051a_row2_col7\" class=\"data row2 col7\" >96149240519783872.000000</td>\n",
       "      <td id=\"T_0051a_row2_col8\" class=\"data row2 col8\" >104557941577512608.000000</td>\n",
       "      <td id=\"T_0051a_row2_col9\" class=\"data row2 col9\" >201704369959.156372</td>\n",
       "      <td id=\"T_0051a_row2_col10\" class=\"data row2 col10\" >198866279517.877777</td>\n",
       "    </tr>\n",
       "    <tr>\n",
       "      <th id=\"T_0051a_level0_row3\" class=\"row_heading level0 row3\" >3</th>\n",
       "      <td id=\"T_0051a_row3_col0\" class=\"data row3 col0\" >Linear</td>\n",
       "      <td id=\"T_0051a_row3_col1\" class=\"data row3 col1\" >base model</td>\n",
       "      <td id=\"T_0051a_row3_col2\" class=\"data row3 col2\" >0.854704</td>\n",
       "      <td id=\"T_0051a_row3_col3\" class=\"data row3 col3\" >0.844715</td>\n",
       "      <td id=\"T_0051a_row3_col4\" class=\"data row3 col4\" >0.756059</td>\n",
       "      <td id=\"T_0051a_row3_col5\" class=\"data row3 col5\" >959401647.854762</td>\n",
       "      <td id=\"T_0051a_row3_col6\" class=\"data row3 col6\" >1250899301.586535</td>\n",
       "      <td id=\"T_0051a_row3_col7\" class=\"data row3 col7\" >30974.209398</td>\n",
       "      <td id=\"T_0051a_row3_col8\" class=\"data row3 col8\" >35368.054818</td>\n",
       "      <td id=\"T_0051a_row3_col9\" class=\"data row3 col9\" >0.117026</td>\n",
       "      <td id=\"T_0051a_row3_col10\" class=\"data row3 col10\" >0.130389</td>\n",
       "    </tr>\n",
       "  </tbody>\n",
       "</table>\n"
      ],
      "text/plain": [
       "<pandas.io.formats.style.Styler at 0x1c23d5785e0>"
      ]
     },
     "execution_count": 23,
     "metadata": {},
     "output_type": "execute_result"
    }
   ],
   "source": [
    "check_model(lasso)"
   ]
  },
  {
   "cell_type": "markdown",
   "id": "6295d26e",
   "metadata": {},
   "source": [
    "# PCA"
   ]
  },
  {
   "cell_type": "code",
   "execution_count": 24,
   "id": "255b0c50",
   "metadata": {},
   "outputs": [],
   "source": [
    "ptt1 = ptt"
   ]
  },
  {
   "cell_type": "code",
   "execution_count": 25,
   "id": "5ca5dbe1",
   "metadata": {},
   "outputs": [],
   "source": [
    "ptt = ptt.drop(['Sale_Price'], axis = 1)"
   ]
  },
  {
   "cell_type": "code",
   "execution_count": 26,
   "id": "e557a593",
   "metadata": {},
   "outputs": [],
   "source": [
    "from sklearn.preprocessing import StandardScaler\n",
    "scaler=StandardScaler()\n",
    "scaler_ptt = scaler.fit_transform(ptt)"
   ]
  },
  {
   "cell_type": "code",
   "execution_count": 27,
   "id": "41be670c",
   "metadata": {},
   "outputs": [
    {
     "data": {
      "text/plain": [
       "(1459, 75)"
      ]
     },
     "execution_count": 27,
     "metadata": {},
     "output_type": "execute_result"
    }
   ],
   "source": [
    "scaler_ptt.shape"
   ]
  },
  {
   "cell_type": "code",
   "execution_count": 28,
   "id": "bbea31ef",
   "metadata": {},
   "outputs": [
    {
     "data": {
      "text/plain": [
       "array([[ 0.07277097, -0.42673413, -0.22064373, ...,  0.13882596,\n",
       "        -0.29221125, -0.39449287],\n",
       "       [-0.87308957, -0.42673413,  0.46033047, ..., -0.61413713,\n",
       "        -0.29221125, -0.39449287],\n",
       "       [ 0.07277097, -0.42673413, -0.08444889, ...,  0.13882596,\n",
       "        -0.29221125, -0.39449287],\n",
       "       ...,\n",
       "       [-0.87308957, -0.42673413,  0.68732186, ...,  1.64475213,\n",
       "        -0.29221125, -0.39449287],\n",
       "       [ 0.30923611, -0.42673413, -0.17524545, ...,  1.64475213,\n",
       "        -0.29221125, -0.39449287],\n",
       "       [-0.87308957, -0.42673413, -0.08444889, ...,  1.64475213,\n",
       "        -0.29221125, -0.39449287]])"
      ]
     },
     "execution_count": 28,
     "metadata": {},
     "output_type": "execute_result"
    }
   ],
   "source": [
    "scaler_ptt\n",
    "# checking the array is it standardized"
   ]
  },
  {
   "cell_type": "code",
   "execution_count": 29,
   "id": "a22508cb",
   "metadata": {},
   "outputs": [],
   "source": [
    "from sklearn.decomposition import PCA\n",
    "pca = PCA()\n",
    "# made an object for principal component analysis"
   ]
  },
  {
   "cell_type": "code",
   "execution_count": 30,
   "id": "e741c332",
   "metadata": {},
   "outputs": [],
   "source": [
    "x_pca1 = pca.fit_transform(scaler_ptt)\n",
    "# pca is done"
   ]
  },
  {
   "cell_type": "code",
   "execution_count": 31,
   "id": "759a14bc",
   "metadata": {},
   "outputs": [
    {
     "data": {
      "text/plain": [
       "array([[ 2.82467138e+00, -2.27852530e+00,  7.63147954e-01, ...,\n",
       "         1.11105705e-01,  2.13718326e-14,  1.55020516e-15],\n",
       "       [ 3.94179334e-01, -7.28120301e-02, -1.39320018e+00, ...,\n",
       "        -1.26371087e-01, -1.83657274e-15, -5.75658650e-16],\n",
       "       [ 3.38030840e+00, -1.87841823e+00,  3.98281804e-01, ...,\n",
       "        -1.45181067e-03,  1.48718942e-14,  8.89087997e-16],\n",
       "       ...,\n",
       "       [ 1.04776164e+00,  2.76647646e+00, -2.19127194e+00, ...,\n",
       "         1.83636087e-01, -6.72999902e-16, -3.37180526e-17],\n",
       "       [-1.18041410e+00,  2.95068871e+00,  2.61138661e+00, ...,\n",
       "         2.27541466e-01, -3.76654566e-16,  1.85659779e-19],\n",
       "       [-2.38767301e+00, -2.37516954e-01, -3.35696305e+00, ...,\n",
       "        -1.18897891e-01, -3.62336027e-16,  4.91084676e-17]])"
      ]
     },
     "execution_count": 31,
     "metadata": {},
     "output_type": "execute_result"
    }
   ],
   "source": [
    "x_pca1\n",
    "# dimensionally reduction"
   ]
  },
  {
   "cell_type": "code",
   "execution_count": 32,
   "id": "b044340e",
   "metadata": {},
   "outputs": [
    {
     "data": {
      "text/html": [
       "<div>\n",
       "<style scoped>\n",
       "    .dataframe tbody tr th:only-of-type {\n",
       "        vertical-align: middle;\n",
       "    }\n",
       "\n",
       "    .dataframe tbody tr th {\n",
       "        vertical-align: top;\n",
       "    }\n",
       "\n",
       "    .dataframe thead th {\n",
       "        text-align: right;\n",
       "    }\n",
       "</style>\n",
       "<table border=\"1\" class=\"dataframe\">\n",
       "  <thead>\n",
       "    <tr style=\"text-align: right;\">\n",
       "      <th></th>\n",
       "      <th>Building_Class</th>\n",
       "      <th>Zoning_Class</th>\n",
       "      <th>Lot_Extent</th>\n",
       "      <th>Lot_Size</th>\n",
       "      <th>Road_Type</th>\n",
       "      <th>Property_Shape</th>\n",
       "      <th>Land_Outline</th>\n",
       "      <th>Utility_Type</th>\n",
       "      <th>Lot_Configuration</th>\n",
       "      <th>Property_Slope</th>\n",
       "      <th>...</th>\n",
       "      <th>Open_Lobby_Area</th>\n",
       "      <th>Enclosed_Lobby_Area</th>\n",
       "      <th>Three_Season_Lobby_Area</th>\n",
       "      <th>Screen_Lobby_Area</th>\n",
       "      <th>Pool_Area</th>\n",
       "      <th>Miscellaneous_Value</th>\n",
       "      <th>Month_Sold</th>\n",
       "      <th>Year_Sold</th>\n",
       "      <th>Sale_Type</th>\n",
       "      <th>Sale_Condition</th>\n",
       "    </tr>\n",
       "  </thead>\n",
       "  <tbody>\n",
       "    <tr>\n",
       "      <th>0</th>\n",
       "      <td>2.824671</td>\n",
       "      <td>-2.278525</td>\n",
       "      <td>0.763148</td>\n",
       "      <td>0.359521</td>\n",
       "      <td>-1.404246</td>\n",
       "      <td>-0.561993</td>\n",
       "      <td>1.480295</td>\n",
       "      <td>-0.144171</td>\n",
       "      <td>-0.345074</td>\n",
       "      <td>-1.570652</td>\n",
       "      <td>...</td>\n",
       "      <td>0.177408</td>\n",
       "      <td>0.044493</td>\n",
       "      <td>0.077195</td>\n",
       "      <td>-0.130073</td>\n",
       "      <td>-0.293108</td>\n",
       "      <td>-0.248523</td>\n",
       "      <td>0.331892</td>\n",
       "      <td>0.111106</td>\n",
       "      <td>2.137183e-14</td>\n",
       "      <td>1.550205e-15</td>\n",
       "    </tr>\n",
       "    <tr>\n",
       "      <th>1</th>\n",
       "      <td>0.394179</td>\n",
       "      <td>-0.072812</td>\n",
       "      <td>-1.393200</td>\n",
       "      <td>-1.357403</td>\n",
       "      <td>-1.391609</td>\n",
       "      <td>-0.853676</td>\n",
       "      <td>0.857849</td>\n",
       "      <td>0.356956</td>\n",
       "      <td>0.236078</td>\n",
       "      <td>0.070190</td>\n",
       "      <td>...</td>\n",
       "      <td>-0.840001</td>\n",
       "      <td>-0.874292</td>\n",
       "      <td>-0.134925</td>\n",
       "      <td>-0.115901</td>\n",
       "      <td>-0.218457</td>\n",
       "      <td>-0.294356</td>\n",
       "      <td>0.133368</td>\n",
       "      <td>-0.126371</td>\n",
       "      <td>-1.836573e-15</td>\n",
       "      <td>-5.756586e-16</td>\n",
       "    </tr>\n",
       "    <tr>\n",
       "      <th>2</th>\n",
       "      <td>3.380308</td>\n",
       "      <td>-1.878418</td>\n",
       "      <td>0.398282</td>\n",
       "      <td>0.249615</td>\n",
       "      <td>-1.728944</td>\n",
       "      <td>-0.003935</td>\n",
       "      <td>1.194937</td>\n",
       "      <td>0.240149</td>\n",
       "      <td>-0.828662</td>\n",
       "      <td>-1.603273</td>\n",
       "      <td>...</td>\n",
       "      <td>0.019530</td>\n",
       "      <td>-0.215678</td>\n",
       "      <td>-0.153775</td>\n",
       "      <td>0.447827</td>\n",
       "      <td>0.206048</td>\n",
       "      <td>0.382363</td>\n",
       "      <td>-0.179226</td>\n",
       "      <td>-0.001452</td>\n",
       "      <td>1.487189e-14</td>\n",
       "      <td>8.890880e-16</td>\n",
       "    </tr>\n",
       "    <tr>\n",
       "      <th>3</th>\n",
       "      <td>-0.254908</td>\n",
       "      <td>0.313398</td>\n",
       "      <td>0.783415</td>\n",
       "      <td>-0.355684</td>\n",
       "      <td>-0.258411</td>\n",
       "      <td>0.499536</td>\n",
       "      <td>0.990745</td>\n",
       "      <td>-0.020100</td>\n",
       "      <td>-0.143874</td>\n",
       "      <td>-0.386521</td>\n",
       "      <td>...</td>\n",
       "      <td>0.779176</td>\n",
       "      <td>0.475226</td>\n",
       "      <td>0.516507</td>\n",
       "      <td>-0.539729</td>\n",
       "      <td>0.508751</td>\n",
       "      <td>1.001679</td>\n",
       "      <td>0.510111</td>\n",
       "      <td>-0.153936</td>\n",
       "      <td>5.108721e-15</td>\n",
       "      <td>8.224154e-16</td>\n",
       "    </tr>\n",
       "    <tr>\n",
       "      <th>4</th>\n",
       "      <td>5.130269</td>\n",
       "      <td>-0.163300</td>\n",
       "      <td>1.194773</td>\n",
       "      <td>0.266883</td>\n",
       "      <td>-1.421373</td>\n",
       "      <td>-0.165981</td>\n",
       "      <td>1.226732</td>\n",
       "      <td>0.087873</td>\n",
       "      <td>-0.852729</td>\n",
       "      <td>-1.475508</td>\n",
       "      <td>...</td>\n",
       "      <td>0.198444</td>\n",
       "      <td>0.221464</td>\n",
       "      <td>0.235266</td>\n",
       "      <td>-0.087877</td>\n",
       "      <td>-0.107997</td>\n",
       "      <td>0.041580</td>\n",
       "      <td>0.219142</td>\n",
       "      <td>-0.219719</td>\n",
       "      <td>-3.547608e-16</td>\n",
       "      <td>-1.121406e-15</td>\n",
       "    </tr>\n",
       "    <tr>\n",
       "      <th>...</th>\n",
       "      <td>...</td>\n",
       "      <td>...</td>\n",
       "      <td>...</td>\n",
       "      <td>...</td>\n",
       "      <td>...</td>\n",
       "      <td>...</td>\n",
       "      <td>...</td>\n",
       "      <td>...</td>\n",
       "      <td>...</td>\n",
       "      <td>...</td>\n",
       "      <td>...</td>\n",
       "      <td>...</td>\n",
       "      <td>...</td>\n",
       "      <td>...</td>\n",
       "      <td>...</td>\n",
       "      <td>...</td>\n",
       "      <td>...</td>\n",
       "      <td>...</td>\n",
       "      <td>...</td>\n",
       "      <td>...</td>\n",
       "      <td>...</td>\n",
       "    </tr>\n",
       "    <tr>\n",
       "      <th>1454</th>\n",
       "      <td>1.934565</td>\n",
       "      <td>-3.457357</td>\n",
       "      <td>-0.727359</td>\n",
       "      <td>-1.032504</td>\n",
       "      <td>1.046340</td>\n",
       "      <td>0.313912</td>\n",
       "      <td>0.082514</td>\n",
       "      <td>1.046201</td>\n",
       "      <td>-0.187170</td>\n",
       "      <td>-0.578193</td>\n",
       "      <td>...</td>\n",
       "      <td>0.154933</td>\n",
       "      <td>-0.039736</td>\n",
       "      <td>-0.168643</td>\n",
       "      <td>-0.122626</td>\n",
       "      <td>-0.541953</td>\n",
       "      <td>-0.287031</td>\n",
       "      <td>0.190113</td>\n",
       "      <td>0.192448</td>\n",
       "      <td>-5.346936e-16</td>\n",
       "      <td>-6.571830e-17</td>\n",
       "    </tr>\n",
       "    <tr>\n",
       "      <th>1455</th>\n",
       "      <td>1.472663</td>\n",
       "      <td>-1.476193</td>\n",
       "      <td>1.678419</td>\n",
       "      <td>-0.495264</td>\n",
       "      <td>-0.831303</td>\n",
       "      <td>0.028091</td>\n",
       "      <td>-0.944686</td>\n",
       "      <td>-1.125120</td>\n",
       "      <td>-0.713312</td>\n",
       "      <td>0.715164</td>\n",
       "      <td>...</td>\n",
       "      <td>-0.200424</td>\n",
       "      <td>0.191075</td>\n",
       "      <td>-0.164878</td>\n",
       "      <td>0.024757</td>\n",
       "      <td>0.138222</td>\n",
       "      <td>-0.063344</td>\n",
       "      <td>-0.138475</td>\n",
       "      <td>0.226984</td>\n",
       "      <td>-1.987008e-16</td>\n",
       "      <td>8.188517e-18</td>\n",
       "    </tr>\n",
       "    <tr>\n",
       "      <th>1456</th>\n",
       "      <td>1.047762</td>\n",
       "      <td>2.766476</td>\n",
       "      <td>-2.191272</td>\n",
       "      <td>0.444761</td>\n",
       "      <td>-0.074537</td>\n",
       "      <td>-2.278513</td>\n",
       "      <td>-1.260755</td>\n",
       "      <td>0.399406</td>\n",
       "      <td>0.470986</td>\n",
       "      <td>-1.482324</td>\n",
       "      <td>...</td>\n",
       "      <td>0.537328</td>\n",
       "      <td>0.206990</td>\n",
       "      <td>-1.257467</td>\n",
       "      <td>0.017480</td>\n",
       "      <td>-0.374588</td>\n",
       "      <td>0.370801</td>\n",
       "      <td>-0.487532</td>\n",
       "      <td>0.183636</td>\n",
       "      <td>-6.729999e-16</td>\n",
       "      <td>-3.371805e-17</td>\n",
       "    </tr>\n",
       "    <tr>\n",
       "      <th>1457</th>\n",
       "      <td>-1.180414</td>\n",
       "      <td>2.950689</td>\n",
       "      <td>2.611387</td>\n",
       "      <td>-0.571580</td>\n",
       "      <td>-1.708229</td>\n",
       "      <td>-1.405375</td>\n",
       "      <td>1.887735</td>\n",
       "      <td>1.105862</td>\n",
       "      <td>2.223908</td>\n",
       "      <td>0.407629</td>\n",
       "      <td>...</td>\n",
       "      <td>0.175163</td>\n",
       "      <td>-0.344997</td>\n",
       "      <td>0.191592</td>\n",
       "      <td>0.109412</td>\n",
       "      <td>1.106716</td>\n",
       "      <td>-1.037695</td>\n",
       "      <td>-0.567948</td>\n",
       "      <td>0.227541</td>\n",
       "      <td>-3.766546e-16</td>\n",
       "      <td>1.856598e-19</td>\n",
       "    </tr>\n",
       "    <tr>\n",
       "      <th>1458</th>\n",
       "      <td>-2.387673</td>\n",
       "      <td>-0.237517</td>\n",
       "      <td>-3.356963</td>\n",
       "      <td>-0.117728</td>\n",
       "      <td>-1.487947</td>\n",
       "      <td>-0.158233</td>\n",
       "      <td>-2.030260</td>\n",
       "      <td>3.022131</td>\n",
       "      <td>1.913854</td>\n",
       "      <td>-1.248098</td>\n",
       "      <td>...</td>\n",
       "      <td>-1.321033</td>\n",
       "      <td>0.408460</td>\n",
       "      <td>0.772507</td>\n",
       "      <td>-1.202163</td>\n",
       "      <td>0.628876</td>\n",
       "      <td>0.137008</td>\n",
       "      <td>0.001501</td>\n",
       "      <td>-0.118898</td>\n",
       "      <td>-3.623360e-16</td>\n",
       "      <td>4.910847e-17</td>\n",
       "    </tr>\n",
       "  </tbody>\n",
       "</table>\n",
       "<p>1459 rows × 75 columns</p>\n",
       "</div>"
      ],
      "text/plain": [
       "      Building_Class  Zoning_Class  Lot_Extent  Lot_Size  Road_Type  \\\n",
       "0           2.824671     -2.278525    0.763148  0.359521  -1.404246   \n",
       "1           0.394179     -0.072812   -1.393200 -1.357403  -1.391609   \n",
       "2           3.380308     -1.878418    0.398282  0.249615  -1.728944   \n",
       "3          -0.254908      0.313398    0.783415 -0.355684  -0.258411   \n",
       "4           5.130269     -0.163300    1.194773  0.266883  -1.421373   \n",
       "...              ...           ...         ...       ...        ...   \n",
       "1454        1.934565     -3.457357   -0.727359 -1.032504   1.046340   \n",
       "1455        1.472663     -1.476193    1.678419 -0.495264  -0.831303   \n",
       "1456        1.047762      2.766476   -2.191272  0.444761  -0.074537   \n",
       "1457       -1.180414      2.950689    2.611387 -0.571580  -1.708229   \n",
       "1458       -2.387673     -0.237517   -3.356963 -0.117728  -1.487947   \n",
       "\n",
       "      Property_Shape  Land_Outline  Utility_Type  Lot_Configuration  \\\n",
       "0          -0.561993      1.480295     -0.144171          -0.345074   \n",
       "1          -0.853676      0.857849      0.356956           0.236078   \n",
       "2          -0.003935      1.194937      0.240149          -0.828662   \n",
       "3           0.499536      0.990745     -0.020100          -0.143874   \n",
       "4          -0.165981      1.226732      0.087873          -0.852729   \n",
       "...              ...           ...           ...                ...   \n",
       "1454        0.313912      0.082514      1.046201          -0.187170   \n",
       "1455        0.028091     -0.944686     -1.125120          -0.713312   \n",
       "1456       -2.278513     -1.260755      0.399406           0.470986   \n",
       "1457       -1.405375      1.887735      1.105862           2.223908   \n",
       "1458       -0.158233     -2.030260      3.022131           1.913854   \n",
       "\n",
       "      Property_Slope  ...  Open_Lobby_Area  Enclosed_Lobby_Area  \\\n",
       "0          -1.570652  ...         0.177408             0.044493   \n",
       "1           0.070190  ...        -0.840001            -0.874292   \n",
       "2          -1.603273  ...         0.019530            -0.215678   \n",
       "3          -0.386521  ...         0.779176             0.475226   \n",
       "4          -1.475508  ...         0.198444             0.221464   \n",
       "...              ...  ...              ...                  ...   \n",
       "1454       -0.578193  ...         0.154933            -0.039736   \n",
       "1455        0.715164  ...        -0.200424             0.191075   \n",
       "1456       -1.482324  ...         0.537328             0.206990   \n",
       "1457        0.407629  ...         0.175163            -0.344997   \n",
       "1458       -1.248098  ...        -1.321033             0.408460   \n",
       "\n",
       "      Three_Season_Lobby_Area  Screen_Lobby_Area  Pool_Area  \\\n",
       "0                    0.077195          -0.130073  -0.293108   \n",
       "1                   -0.134925          -0.115901  -0.218457   \n",
       "2                   -0.153775           0.447827   0.206048   \n",
       "3                    0.516507          -0.539729   0.508751   \n",
       "4                    0.235266          -0.087877  -0.107997   \n",
       "...                       ...                ...        ...   \n",
       "1454                -0.168643          -0.122626  -0.541953   \n",
       "1455                -0.164878           0.024757   0.138222   \n",
       "1456                -1.257467           0.017480  -0.374588   \n",
       "1457                 0.191592           0.109412   1.106716   \n",
       "1458                 0.772507          -1.202163   0.628876   \n",
       "\n",
       "      Miscellaneous_Value  Month_Sold  Year_Sold     Sale_Type  Sale_Condition  \n",
       "0               -0.248523    0.331892   0.111106  2.137183e-14    1.550205e-15  \n",
       "1               -0.294356    0.133368  -0.126371 -1.836573e-15   -5.756586e-16  \n",
       "2                0.382363   -0.179226  -0.001452  1.487189e-14    8.890880e-16  \n",
       "3                1.001679    0.510111  -0.153936  5.108721e-15    8.224154e-16  \n",
       "4                0.041580    0.219142  -0.219719 -3.547608e-16   -1.121406e-15  \n",
       "...                   ...         ...        ...           ...             ...  \n",
       "1454            -0.287031    0.190113   0.192448 -5.346936e-16   -6.571830e-17  \n",
       "1455            -0.063344   -0.138475   0.226984 -1.987008e-16    8.188517e-18  \n",
       "1456             0.370801   -0.487532   0.183636 -6.729999e-16   -3.371805e-17  \n",
       "1457            -1.037695   -0.567948   0.227541 -3.766546e-16    1.856598e-19  \n",
       "1458             0.137008    0.001501  -0.118898 -3.623360e-16    4.910847e-17  \n",
       "\n",
       "[1459 rows x 75 columns]"
      ]
     },
     "execution_count": 32,
     "metadata": {},
     "output_type": "execute_result"
    }
   ],
   "source": [
    "data= pd.DataFrame(x_pca1)\n",
    "data.columns = ptt.columns\n",
    "data\n",
    "# checking data no need but should do it if scaling is done or not and while u see there that 1st columns seems imp as units check"
   ]
  },
  {
   "cell_type": "code",
   "execution_count": 33,
   "id": "ccd76d51",
   "metadata": {},
   "outputs": [
    {
     "data": {
      "text/plain": [
       "75"
      ]
     },
     "execution_count": 33,
     "metadata": {},
     "output_type": "execute_result"
    }
   ],
   "source": [
    "len(list(pca.explained_variance_ratio_))"
   ]
  },
  {
   "cell_type": "code",
   "execution_count": 34,
   "id": "0509f1b9",
   "metadata": {},
   "outputs": [
    {
     "data": {
      "text/plain": [
       "array([1.10135826e-01, 5.93354078e-02, 4.92624156e-02, 3.43904645e-02,\n",
       "       3.21618854e-02, 2.61253510e-02, 2.40986432e-02, 2.34257694e-02,\n",
       "       2.14914767e-02, 2.11285543e-02, 2.00926314e-02, 1.91169202e-02,\n",
       "       1.84334586e-02, 1.78021741e-02, 1.75091293e-02, 1.71236015e-02,\n",
       "       1.66067364e-02, 1.61898512e-02, 1.52916830e-02, 1.50480165e-02,\n",
       "       1.47747641e-02, 1.44241608e-02, 1.39610132e-02, 1.37344511e-02,\n",
       "       1.34737145e-02, 1.32548911e-02, 1.31367597e-02, 1.29953370e-02,\n",
       "       1.28339896e-02, 1.24509827e-02, 1.23546883e-02, 1.20589881e-02,\n",
       "       1.19007773e-02, 1.16377959e-02, 1.12212144e-02, 1.08802741e-02,\n",
       "       1.08161659e-02, 1.01377571e-02, 9.75318820e-03, 9.54419622e-03,\n",
       "       9.37254469e-03, 8.99712184e-03, 8.75064766e-03, 8.47741871e-03,\n",
       "       8.27401750e-03, 8.12046959e-03, 7.91582547e-03, 7.60755556e-03,\n",
       "       7.43844397e-03, 7.16630285e-03, 7.01206719e-03, 6.82447206e-03,\n",
       "       6.47016761e-03, 6.20494622e-03, 5.86575283e-03, 5.75136551e-03,\n",
       "       5.57768286e-03, 5.27059643e-03, 5.07897949e-03, 4.80848956e-03,\n",
       "       4.74407325e-03, 4.37492680e-03, 4.14297898e-03, 3.73365215e-03,\n",
       "       3.44219152e-03, 3.12168553e-03, 3.06410195e-03, 2.99300648e-03,\n",
       "       2.66143924e-03, 2.24767034e-03, 1.64735352e-03, 1.50926198e-03,\n",
       "       1.21768515e-03, 2.17204619e-32, 5.56093607e-34])"
      ]
     },
     "execution_count": 34,
     "metadata": {},
     "output_type": "execute_result"
    }
   ],
   "source": [
    "pca.explained_variance_ratio_\n",
    "# variance is the measure of your randomness\n",
    "# out of 75 pcs (principal components)-- 1st PC is explaining 10% of the variance where variance of data is considered to be 100%"
   ]
  },
  {
   "cell_type": "code",
   "execution_count": 35,
   "id": "f5272584",
   "metadata": {},
   "outputs": [
    {
     "data": {
      "text/plain": [
       "0.9907165897711815"
      ]
     },
     "execution_count": 35,
     "metadata": {},
     "output_type": "execute_result"
    }
   ],
   "source": [
    "pca.explained_variance_ratio_[0:68].sum()\n",
    "# taking the first important 150 columns using pca and it seems 90% of variance is explained where 100% is ecxpected"
   ]
  },
  {
   "cell_type": "markdown",
   "id": "52414225",
   "metadata": {},
   "source": [
    "well after PCA we realise that there are 68 out of 75 features which are giving us 99% accuracy. After running all the "
   ]
  },
  {
   "cell_type": "markdown",
   "id": "d551acbc",
   "metadata": {},
   "source": [
    "# Feature Selection"
   ]
  },
  {
   "cell_type": "code",
   "execution_count": 36,
   "id": "0f99eea3",
   "metadata": {},
   "outputs": [],
   "source": [
    "from sklearn.ensemble import RandomForestRegressor\n",
    "rfr = RandomForestRegressor()"
   ]
  },
  {
   "cell_type": "code",
   "execution_count": 37,
   "id": "7576b618",
   "metadata": {},
   "outputs": [
    {
     "data": {
      "text/html": [
       "<style>#sk-container-id-5 {color: black;background-color: white;}#sk-container-id-5 pre{padding: 0;}#sk-container-id-5 div.sk-toggleable {background-color: white;}#sk-container-id-5 label.sk-toggleable__label {cursor: pointer;display: block;width: 100%;margin-bottom: 0;padding: 0.3em;box-sizing: border-box;text-align: center;}#sk-container-id-5 label.sk-toggleable__label-arrow:before {content: \"▸\";float: left;margin-right: 0.25em;color: #696969;}#sk-container-id-5 label.sk-toggleable__label-arrow:hover:before {color: black;}#sk-container-id-5 div.sk-estimator:hover label.sk-toggleable__label-arrow:before {color: black;}#sk-container-id-5 div.sk-toggleable__content {max-height: 0;max-width: 0;overflow: hidden;text-align: left;background-color: #f0f8ff;}#sk-container-id-5 div.sk-toggleable__content pre {margin: 0.2em;color: black;border-radius: 0.25em;background-color: #f0f8ff;}#sk-container-id-5 input.sk-toggleable__control:checked~div.sk-toggleable__content {max-height: 200px;max-width: 100%;overflow: auto;}#sk-container-id-5 input.sk-toggleable__control:checked~label.sk-toggleable__label-arrow:before {content: \"▾\";}#sk-container-id-5 div.sk-estimator input.sk-toggleable__control:checked~label.sk-toggleable__label {background-color: #d4ebff;}#sk-container-id-5 div.sk-label input.sk-toggleable__control:checked~label.sk-toggleable__label {background-color: #d4ebff;}#sk-container-id-5 input.sk-hidden--visually {border: 0;clip: rect(1px 1px 1px 1px);clip: rect(1px, 1px, 1px, 1px);height: 1px;margin: -1px;overflow: hidden;padding: 0;position: absolute;width: 1px;}#sk-container-id-5 div.sk-estimator {font-family: monospace;background-color: #f0f8ff;border: 1px dotted black;border-radius: 0.25em;box-sizing: border-box;margin-bottom: 0.5em;}#sk-container-id-5 div.sk-estimator:hover {background-color: #d4ebff;}#sk-container-id-5 div.sk-parallel-item::after {content: \"\";width: 100%;border-bottom: 1px solid gray;flex-grow: 1;}#sk-container-id-5 div.sk-label:hover label.sk-toggleable__label {background-color: #d4ebff;}#sk-container-id-5 div.sk-serial::before {content: \"\";position: absolute;border-left: 1px solid gray;box-sizing: border-box;top: 0;bottom: 0;left: 50%;z-index: 0;}#sk-container-id-5 div.sk-serial {display: flex;flex-direction: column;align-items: center;background-color: white;padding-right: 0.2em;padding-left: 0.2em;position: relative;}#sk-container-id-5 div.sk-item {position: relative;z-index: 1;}#sk-container-id-5 div.sk-parallel {display: flex;align-items: stretch;justify-content: center;background-color: white;position: relative;}#sk-container-id-5 div.sk-item::before, #sk-container-id-5 div.sk-parallel-item::before {content: \"\";position: absolute;border-left: 1px solid gray;box-sizing: border-box;top: 0;bottom: 0;left: 50%;z-index: -1;}#sk-container-id-5 div.sk-parallel-item {display: flex;flex-direction: column;z-index: 1;position: relative;background-color: white;}#sk-container-id-5 div.sk-parallel-item:first-child::after {align-self: flex-end;width: 50%;}#sk-container-id-5 div.sk-parallel-item:last-child::after {align-self: flex-start;width: 50%;}#sk-container-id-5 div.sk-parallel-item:only-child::after {width: 0;}#sk-container-id-5 div.sk-dashed-wrapped {border: 1px dashed gray;margin: 0 0.4em 0.5em 0.4em;box-sizing: border-box;padding-bottom: 0.4em;background-color: white;}#sk-container-id-5 div.sk-label label {font-family: monospace;font-weight: bold;display: inline-block;line-height: 1.2em;}#sk-container-id-5 div.sk-label-container {text-align: center;}#sk-container-id-5 div.sk-container {/* jupyter's `normalize.less` sets `[hidden] { display: none; }` but bootstrap.min.css set `[hidden] { display: none !important; }` so we also need the `!important` here to be able to override the default hidden behavior on the sphinx rendered scikit-learn.org. See: https://github.com/scikit-learn/scikit-learn/issues/21755 */display: inline-block !important;position: relative;}#sk-container-id-5 div.sk-text-repr-fallback {display: none;}</style><div id=\"sk-container-id-5\" class=\"sk-top-container\"><div class=\"sk-text-repr-fallback\"><pre>RandomForestRegressor()</pre><b>In a Jupyter environment, please rerun this cell to show the HTML representation or trust the notebook. <br />On GitHub, the HTML representation is unable to render, please try loading this page with nbviewer.org.</b></div><div class=\"sk-container\" hidden><div class=\"sk-item\"><div class=\"sk-estimator sk-toggleable\"><input class=\"sk-toggleable__control sk-hidden--visually\" id=\"sk-estimator-id-5\" type=\"checkbox\" checked><label for=\"sk-estimator-id-5\" class=\"sk-toggleable__label sk-toggleable__label-arrow\">RandomForestRegressor</label><div class=\"sk-toggleable__content\"><pre>RandomForestRegressor()</pre></div></div></div></div></div>"
      ],
      "text/plain": [
       "RandomForestRegressor()"
      ]
     },
     "execution_count": 37,
     "metadata": {},
     "output_type": "execute_result"
    }
   ],
   "source": [
    "rfr.fit(X_train, y_train)"
   ]
  },
  {
   "cell_type": "code",
   "execution_count": 42,
   "id": "c926b569",
   "metadata": {},
   "outputs": [
    {
     "data": {
      "text/html": [
       "<div>\n",
       "<style scoped>\n",
       "    .dataframe tbody tr th:only-of-type {\n",
       "        vertical-align: middle;\n",
       "    }\n",
       "\n",
       "    .dataframe tbody tr th {\n",
       "        vertical-align: top;\n",
       "    }\n",
       "\n",
       "    .dataframe thead th {\n",
       "        text-align: right;\n",
       "    }\n",
       "</style>\n",
       "<table border=\"1\" class=\"dataframe\">\n",
       "  <thead>\n",
       "    <tr style=\"text-align: right;\">\n",
       "      <th></th>\n",
       "      <th>col</th>\n",
       "      <th>imp</th>\n",
       "    </tr>\n",
       "  </thead>\n",
       "  <tbody>\n",
       "    <tr>\n",
       "      <th>15</th>\n",
       "      <td>Overall_Material</td>\n",
       "      <td>5.742593e-01</td>\n",
       "    </tr>\n",
       "    <tr>\n",
       "      <th>44</th>\n",
       "      <td>Grade_Living_Area</td>\n",
       "      <td>1.155301e-01</td>\n",
       "    </tr>\n",
       "    <tr>\n",
       "      <th>36</th>\n",
       "      <td>Total_Basement_Area</td>\n",
       "      <td>3.727573e-02</td>\n",
       "    </tr>\n",
       "    <tr>\n",
       "      <th>32</th>\n",
       "      <td>BsmtFinSF1</td>\n",
       "      <td>2.949710e-02</td>\n",
       "    </tr>\n",
       "    <tr>\n",
       "      <th>42</th>\n",
       "      <td>Second_Floor_Area</td>\n",
       "      <td>2.903615e-02</td>\n",
       "    </tr>\n",
       "    <tr>\n",
       "      <th>...</th>\n",
       "      <td>...</td>\n",
       "      <td>...</td>\n",
       "    </tr>\n",
       "    <tr>\n",
       "      <th>43</th>\n",
       "      <td>LowQualFinSF</td>\n",
       "      <td>5.768165e-05</td>\n",
       "    </tr>\n",
       "    <tr>\n",
       "      <th>62</th>\n",
       "      <td>Garage_Condition</td>\n",
       "      <td>3.387479e-05</td>\n",
       "    </tr>\n",
       "    <tr>\n",
       "      <th>12</th>\n",
       "      <td>Condition2</td>\n",
       "      <td>2.628557e-05</td>\n",
       "    </tr>\n",
       "    <tr>\n",
       "      <th>4</th>\n",
       "      <td>Road_Type</td>\n",
       "      <td>4.279912e-06</td>\n",
       "    </tr>\n",
       "    <tr>\n",
       "      <th>7</th>\n",
       "      <td>Utility_Type</td>\n",
       "      <td>6.814845e-08</td>\n",
       "    </tr>\n",
       "  </tbody>\n",
       "</table>\n",
       "<p>75 rows × 2 columns</p>\n",
       "</div>"
      ],
      "text/plain": [
       "                    col           imp\n",
       "15     Overall_Material  5.742593e-01\n",
       "44    Grade_Living_Area  1.155301e-01\n",
       "36  Total_Basement_Area  3.727573e-02\n",
       "32           BsmtFinSF1  2.949710e-02\n",
       "42    Second_Floor_Area  2.903615e-02\n",
       "..                  ...           ...\n",
       "43         LowQualFinSF  5.768165e-05\n",
       "62     Garage_Condition  3.387479e-05\n",
       "12           Condition2  2.628557e-05\n",
       "4             Road_Type  4.279912e-06\n",
       "7          Utility_Type  6.814845e-08\n",
       "\n",
       "[75 rows x 2 columns]"
      ]
     },
     "execution_count": 42,
     "metadata": {},
     "output_type": "execute_result"
    }
   ],
   "source": [
    "df = pd.DataFrame()\n",
    "df['col'] = X_train.columns\n",
    "df['imp'] = rfr.feature_importances_\n",
    "df_sorted = df.sort_values('imp', ascending=False)\n",
    "df_sorted"
   ]
  },
  {
   "cell_type": "code",
   "execution_count": 43,
   "id": "0b7fb2fb",
   "metadata": {},
   "outputs": [],
   "source": [
    "new_data = df_sorted.head(68)\n",
    "# taking only 68 features as PCA gave us information that using important 68 features are giving the 99% accuracy \n",
    "# so why to use remaining features are not important."
   ]
  },
  {
   "cell_type": "code",
   "execution_count": 48,
   "id": "33a49cd1",
   "metadata": {},
   "outputs": [],
   "source": [
    "l1 = list(new_data.col)"
   ]
  },
  {
   "cell_type": "markdown",
   "id": "328c9706",
   "metadata": {},
   "source": [
    "# Building model using only important features"
   ]
  },
  {
   "cell_type": "code",
   "execution_count": 51,
   "id": "5a51f390",
   "metadata": {},
   "outputs": [],
   "source": [
    "x_train1 = X_train[l1]\n",
    "x_test1 = X_test[l1]"
   ]
  },
  {
   "cell_type": "code",
   "execution_count": 53,
   "id": "b963d92f",
   "metadata": {},
   "outputs": [],
   "source": [
    "ridge1 = Ridge()"
   ]
  },
  {
   "cell_type": "code",
   "execution_count": 54,
   "id": "8023261f",
   "metadata": {},
   "outputs": [
    {
     "data": {
      "text/html": [
       "<style>#sk-container-id-6 {color: black;background-color: white;}#sk-container-id-6 pre{padding: 0;}#sk-container-id-6 div.sk-toggleable {background-color: white;}#sk-container-id-6 label.sk-toggleable__label {cursor: pointer;display: block;width: 100%;margin-bottom: 0;padding: 0.3em;box-sizing: border-box;text-align: center;}#sk-container-id-6 label.sk-toggleable__label-arrow:before {content: \"▸\";float: left;margin-right: 0.25em;color: #696969;}#sk-container-id-6 label.sk-toggleable__label-arrow:hover:before {color: black;}#sk-container-id-6 div.sk-estimator:hover label.sk-toggleable__label-arrow:before {color: black;}#sk-container-id-6 div.sk-toggleable__content {max-height: 0;max-width: 0;overflow: hidden;text-align: left;background-color: #f0f8ff;}#sk-container-id-6 div.sk-toggleable__content pre {margin: 0.2em;color: black;border-radius: 0.25em;background-color: #f0f8ff;}#sk-container-id-6 input.sk-toggleable__control:checked~div.sk-toggleable__content {max-height: 200px;max-width: 100%;overflow: auto;}#sk-container-id-6 input.sk-toggleable__control:checked~label.sk-toggleable__label-arrow:before {content: \"▾\";}#sk-container-id-6 div.sk-estimator input.sk-toggleable__control:checked~label.sk-toggleable__label {background-color: #d4ebff;}#sk-container-id-6 div.sk-label input.sk-toggleable__control:checked~label.sk-toggleable__label {background-color: #d4ebff;}#sk-container-id-6 input.sk-hidden--visually {border: 0;clip: rect(1px 1px 1px 1px);clip: rect(1px, 1px, 1px, 1px);height: 1px;margin: -1px;overflow: hidden;padding: 0;position: absolute;width: 1px;}#sk-container-id-6 div.sk-estimator {font-family: monospace;background-color: #f0f8ff;border: 1px dotted black;border-radius: 0.25em;box-sizing: border-box;margin-bottom: 0.5em;}#sk-container-id-6 div.sk-estimator:hover {background-color: #d4ebff;}#sk-container-id-6 div.sk-parallel-item::after {content: \"\";width: 100%;border-bottom: 1px solid gray;flex-grow: 1;}#sk-container-id-6 div.sk-label:hover label.sk-toggleable__label {background-color: #d4ebff;}#sk-container-id-6 div.sk-serial::before {content: \"\";position: absolute;border-left: 1px solid gray;box-sizing: border-box;top: 0;bottom: 0;left: 50%;z-index: 0;}#sk-container-id-6 div.sk-serial {display: flex;flex-direction: column;align-items: center;background-color: white;padding-right: 0.2em;padding-left: 0.2em;position: relative;}#sk-container-id-6 div.sk-item {position: relative;z-index: 1;}#sk-container-id-6 div.sk-parallel {display: flex;align-items: stretch;justify-content: center;background-color: white;position: relative;}#sk-container-id-6 div.sk-item::before, #sk-container-id-6 div.sk-parallel-item::before {content: \"\";position: absolute;border-left: 1px solid gray;box-sizing: border-box;top: 0;bottom: 0;left: 50%;z-index: -1;}#sk-container-id-6 div.sk-parallel-item {display: flex;flex-direction: column;z-index: 1;position: relative;background-color: white;}#sk-container-id-6 div.sk-parallel-item:first-child::after {align-self: flex-end;width: 50%;}#sk-container-id-6 div.sk-parallel-item:last-child::after {align-self: flex-start;width: 50%;}#sk-container-id-6 div.sk-parallel-item:only-child::after {width: 0;}#sk-container-id-6 div.sk-dashed-wrapped {border: 1px dashed gray;margin: 0 0.4em 0.5em 0.4em;box-sizing: border-box;padding-bottom: 0.4em;background-color: white;}#sk-container-id-6 div.sk-label label {font-family: monospace;font-weight: bold;display: inline-block;line-height: 1.2em;}#sk-container-id-6 div.sk-label-container {text-align: center;}#sk-container-id-6 div.sk-container {/* jupyter's `normalize.less` sets `[hidden] { display: none; }` but bootstrap.min.css set `[hidden] { display: none !important; }` so we also need the `!important` here to be able to override the default hidden behavior on the sphinx rendered scikit-learn.org. See: https://github.com/scikit-learn/scikit-learn/issues/21755 */display: inline-block !important;position: relative;}#sk-container-id-6 div.sk-text-repr-fallback {display: none;}</style><div id=\"sk-container-id-6\" class=\"sk-top-container\"><div class=\"sk-text-repr-fallback\"><pre>Ridge()</pre><b>In a Jupyter environment, please rerun this cell to show the HTML representation or trust the notebook. <br />On GitHub, the HTML representation is unable to render, please try loading this page with nbviewer.org.</b></div><div class=\"sk-container\" hidden><div class=\"sk-item\"><div class=\"sk-estimator sk-toggleable\"><input class=\"sk-toggleable__control sk-hidden--visually\" id=\"sk-estimator-id-6\" type=\"checkbox\" checked><label for=\"sk-estimator-id-6\" class=\"sk-toggleable__label sk-toggleable__label-arrow\">Ridge</label><div class=\"sk-toggleable__content\"><pre>Ridge()</pre></div></div></div></div></div>"
      ],
      "text/plain": [
       "Ridge()"
      ]
     },
     "execution_count": 54,
     "metadata": {},
     "output_type": "execute_result"
    }
   ],
   "source": [
    "ridge1.fit(x_train1, y_train)"
   ]
  },
  {
   "cell_type": "code",
   "execution_count": 55,
   "id": "9ef4f593",
   "metadata": {},
   "outputs": [
    {
     "data": {
      "text/html": [
       "<style type=\"text/css\">\n",
       "#T_87ca5_row0_col4, #T_87ca5_row0_col6, #T_87ca5_row0_col8, #T_87ca5_row0_col10, #T_87ca5_row1_col9, #T_87ca5_row2_col4, #T_87ca5_row2_col6, #T_87ca5_row2_col8, #T_87ca5_row2_col10, #T_87ca5_row4_col2, #T_87ca5_row4_col5, #T_87ca5_row4_col7 {\n",
       "  background-color: yellow;\n",
       "}\n",
       "</style>\n",
       "<table id=\"T_87ca5\">\n",
       "  <thead>\n",
       "    <tr>\n",
       "      <th class=\"blank level0\" >&nbsp;</th>\n",
       "      <th id=\"T_87ca5_level0_col0\" class=\"col_heading level0 col0\" >Model</th>\n",
       "      <th id=\"T_87ca5_level0_col1\" class=\"col_heading level0 col1\" >Comment</th>\n",
       "      <th id=\"T_87ca5_level0_col2\" class=\"col_heading level0 col2\" >R2_train</th>\n",
       "      <th id=\"T_87ca5_level0_col3\" class=\"col_heading level0 col3\" >Adj_R2</th>\n",
       "      <th id=\"T_87ca5_level0_col4\" class=\"col_heading level0 col4\" >R2_test</th>\n",
       "      <th id=\"T_87ca5_level0_col5\" class=\"col_heading level0 col5\" >mse_train</th>\n",
       "      <th id=\"T_87ca5_level0_col6\" class=\"col_heading level0 col6\" >mse_test</th>\n",
       "      <th id=\"T_87ca5_level0_col7\" class=\"col_heading level0 col7\" >rmse_train</th>\n",
       "      <th id=\"T_87ca5_level0_col8\" class=\"col_heading level0 col8\" >rmse_test</th>\n",
       "      <th id=\"T_87ca5_level0_col9\" class=\"col_heading level0 col9\" >mape_train</th>\n",
       "      <th id=\"T_87ca5_level0_col10\" class=\"col_heading level0 col10\" >mape_test</th>\n",
       "    </tr>\n",
       "  </thead>\n",
       "  <tbody>\n",
       "    <tr>\n",
       "      <th id=\"T_87ca5_level0_row0\" class=\"row_heading level0 row0\" >0</th>\n",
       "      <td id=\"T_87ca5_row0_col0\" class=\"data row0 col0\" >Ridge</td>\n",
       "      <td id=\"T_87ca5_row0_col1\" class=\"data row0 col1\" >base model</td>\n",
       "      <td id=\"T_87ca5_row0_col2\" class=\"data row0 col2\" >0.854546</td>\n",
       "      <td id=\"T_87ca5_row0_col3\" class=\"data row0 col3\" >0.844547</td>\n",
       "      <td id=\"T_87ca5_row0_col4\" class=\"data row0 col4\" >0.757130</td>\n",
       "      <td id=\"T_87ca5_row0_col5\" class=\"data row0 col5\" >960440843.891848</td>\n",
       "      <td id=\"T_87ca5_row0_col6\" class=\"data row0 col6\" >1245411230.903868</td>\n",
       "      <td id=\"T_87ca5_row0_col7\" class=\"data row0 col7\" >30990.980041</td>\n",
       "      <td id=\"T_87ca5_row0_col8\" class=\"data row0 col8\" >35290.384397</td>\n",
       "      <td id=\"T_87ca5_row0_col9\" class=\"data row0 col9\" >0.117020</td>\n",
       "      <td id=\"T_87ca5_row0_col10\" class=\"data row0 col10\" >0.129793</td>\n",
       "    </tr>\n",
       "    <tr>\n",
       "      <th id=\"T_87ca5_level0_row1\" class=\"row_heading level0 row1\" >1</th>\n",
       "      <td id=\"T_87ca5_row1_col0\" class=\"data row1 col0\" >Lasso</td>\n",
       "      <td id=\"T_87ca5_row1_col1\" class=\"data row1 col1\" >base model</td>\n",
       "      <td id=\"T_87ca5_row1_col2\" class=\"data row1 col2\" >0.854703</td>\n",
       "      <td id=\"T_87ca5_row1_col3\" class=\"data row1 col3\" >0.844715</td>\n",
       "      <td id=\"T_87ca5_row1_col4\" class=\"data row1 col4\" >0.756098</td>\n",
       "      <td id=\"T_87ca5_row1_col5\" class=\"data row1 col5\" >959403736.457111</td>\n",
       "      <td id=\"T_87ca5_row1_col6\" class=\"data row1 col6\" >1250698802.678900</td>\n",
       "      <td id=\"T_87ca5_row1_col7\" class=\"data row1 col7\" >30974.243114</td>\n",
       "      <td id=\"T_87ca5_row1_col8\" class=\"data row1 col8\" >35365.220241</td>\n",
       "      <td id=\"T_87ca5_row1_col9\" class=\"data row1 col9\" >0.117014</td>\n",
       "      <td id=\"T_87ca5_row1_col10\" class=\"data row1 col10\" >0.130348</td>\n",
       "    </tr>\n",
       "    <tr>\n",
       "      <th id=\"T_87ca5_level0_row2\" class=\"row_heading level0 row2\" >2</th>\n",
       "      <td id=\"T_87ca5_row2_col0\" class=\"data row2 col0\" >Ridge</td>\n",
       "      <td id=\"T_87ca5_row2_col1\" class=\"data row2 col1\" >base model</td>\n",
       "      <td id=\"T_87ca5_row2_col2\" class=\"data row2 col2\" >0.854546</td>\n",
       "      <td id=\"T_87ca5_row2_col3\" class=\"data row2 col3\" >0.844547</td>\n",
       "      <td id=\"T_87ca5_row2_col4\" class=\"data row2 col4\" >0.757130</td>\n",
       "      <td id=\"T_87ca5_row2_col5\" class=\"data row2 col5\" >960440843.891848</td>\n",
       "      <td id=\"T_87ca5_row2_col6\" class=\"data row2 col6\" >1245411230.903868</td>\n",
       "      <td id=\"T_87ca5_row2_col7\" class=\"data row2 col7\" >30990.980041</td>\n",
       "      <td id=\"T_87ca5_row2_col8\" class=\"data row2 col8\" >35290.384397</td>\n",
       "      <td id=\"T_87ca5_row2_col9\" class=\"data row2 col9\" >0.117020</td>\n",
       "      <td id=\"T_87ca5_row2_col10\" class=\"data row2 col10\" >0.129793</td>\n",
       "    </tr>\n",
       "    <tr>\n",
       "      <th id=\"T_87ca5_level0_row3\" class=\"row_heading level0 row3\" >3</th>\n",
       "      <td id=\"T_87ca5_row3_col0\" class=\"data row3 col0\" >SGD</td>\n",
       "      <td id=\"T_87ca5_row3_col1\" class=\"data row3 col1\" >base model</td>\n",
       "      <td id=\"T_87ca5_row3_col2\" class=\"data row3 col2\" >-1400058618141242166345728.000000</td>\n",
       "      <td id=\"T_87ca5_row3_col3\" class=\"data row3 col3\" >-1496304627637661179314176.000000</td>\n",
       "      <td id=\"T_87ca5_row3_col4\" class=\"data row3 col4\" >-2131944426992222792056832.000000</td>\n",
       "      <td id=\"T_87ca5_row3_col5\" class=\"data row3 col5\" >9244676452531247642005083544092672.000000</td>\n",
       "      <td id=\"T_87ca5_row3_col6\" class=\"data row3 col6\" >10932363146926539470156581543346176.000000</td>\n",
       "      <td id=\"T_87ca5_row3_col7\" class=\"data row3 col7\" >96149240519783872.000000</td>\n",
       "      <td id=\"T_87ca5_row3_col8\" class=\"data row3 col8\" >104557941577512608.000000</td>\n",
       "      <td id=\"T_87ca5_row3_col9\" class=\"data row3 col9\" >201704369959.156372</td>\n",
       "      <td id=\"T_87ca5_row3_col10\" class=\"data row3 col10\" >198866279517.877777</td>\n",
       "    </tr>\n",
       "    <tr>\n",
       "      <th id=\"T_87ca5_level0_row4\" class=\"row_heading level0 row4\" >4</th>\n",
       "      <td id=\"T_87ca5_row4_col0\" class=\"data row4 col0\" >Linear</td>\n",
       "      <td id=\"T_87ca5_row4_col1\" class=\"data row4 col1\" >base model</td>\n",
       "      <td id=\"T_87ca5_row4_col2\" class=\"data row4 col2\" >0.854704</td>\n",
       "      <td id=\"T_87ca5_row4_col3\" class=\"data row4 col3\" >0.844715</td>\n",
       "      <td id=\"T_87ca5_row4_col4\" class=\"data row4 col4\" >0.756059</td>\n",
       "      <td id=\"T_87ca5_row4_col5\" class=\"data row4 col5\" >959401647.854762</td>\n",
       "      <td id=\"T_87ca5_row4_col6\" class=\"data row4 col6\" >1250899301.586535</td>\n",
       "      <td id=\"T_87ca5_row4_col7\" class=\"data row4 col7\" >30974.209398</td>\n",
       "      <td id=\"T_87ca5_row4_col8\" class=\"data row4 col8\" >35368.054818</td>\n",
       "      <td id=\"T_87ca5_row4_col9\" class=\"data row4 col9\" >0.117026</td>\n",
       "      <td id=\"T_87ca5_row4_col10\" class=\"data row4 col10\" >0.130389</td>\n",
       "    </tr>\n",
       "  </tbody>\n",
       "</table>\n"
      ],
      "text/plain": [
       "<pandas.io.formats.style.Styler at 0x1c23f293eb0>"
      ]
     },
     "execution_count": 55,
     "metadata": {},
     "output_type": "execute_result"
    }
   ],
   "source": [
    "check_model(ridge1)"
   ]
  },
  {
   "cell_type": "code",
   "execution_count": 56,
   "id": "5b6c072f",
   "metadata": {},
   "outputs": [
    {
     "data": {
      "text/plain": [
       "99.869611"
      ]
     },
     "execution_count": 56,
     "metadata": {},
     "output_type": "execute_result"
    }
   ],
   "source": [
    "100-0.130389"
   ]
  },
  {
   "cell_type": "markdown",
   "id": "f50fa8fc",
   "metadata": {},
   "source": [
    "So, we got 99% accuracy using 68 features only where originally we had 75 feature. I have done feature selection using random forest and got the important 68 feature then made new train-test and built the model."
   ]
  },
  {
   "cell_type": "code",
   "execution_count": null,
   "id": "2022036b",
   "metadata": {},
   "outputs": [],
   "source": []
  }
 ],
 "metadata": {
  "kernelspec": {
   "display_name": "Python 3 (ipykernel)",
   "language": "python",
   "name": "python3"
  },
  "language_info": {
   "codemirror_mode": {
    "name": "ipython",
    "version": 3
   },
   "file_extension": ".py",
   "mimetype": "text/x-python",
   "name": "python",
   "nbconvert_exporter": "python",
   "pygments_lexer": "ipython3",
   "version": "3.10.9"
  }
 },
 "nbformat": 4,
 "nbformat_minor": 5
}
